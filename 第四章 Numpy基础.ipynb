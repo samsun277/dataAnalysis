{
 "cells": [
  {
   "cell_type": "markdown",
   "id": "fa936e6e",
   "metadata": {},
   "source": [
    "> - ndarray，一种高效**多维数组**，提供了基于数组的便捷**算术操作**以及灵活的**广播功能**。\n",
    "> - 对所有数据进行快速的**矩阵计算**，而**无须编写循环程序**。\n",
    "> - 对硬盘中数组数据进行读写的工具，并对**内存映射文件**进行操作。\n",
    "> - **线性代数**、**随机数**生成以及**傅里叶变换**功能。\n",
    "> - 用于连接NumPy到C、C++和FORTRAN语言类库的**C语言API**。\n",
    "> - 在数据**处理、清洗、构造子集、过滤、变换**以及其他计算中进行快速的**向量化计算**。\n",
    "> - 常见的数组算法，比如**sort、unique以及set操作**等。\n",
    "> - 高效的**描述性统计**和**聚合/概述**数据。\n",
    "> - 数据**排列**和相关数据操作，例如对异构数据进行**merge和join**。\n",
    "> - 使用**数组表达式**来表明条件逻辑，**代替if-elif-else条件分支的循环**。\n",
    "> - **分组数据的操作**（聚合、变换以及函数式操作）"
   ]
  },
  {
   "cell_type": "code",
   "execution_count": 1,
   "id": "d4683ccb",
   "metadata": {},
   "outputs": [],
   "source": [
    "import numpy as np\n",
    "my_arr = np.arange(1000000)\n",
    "my_list = list(range(1000000))"
   ]
  },
  {
   "cell_type": "code",
   "execution_count": 2,
   "id": "50b5dfbf",
   "metadata": {},
   "outputs": [
    {
     "name": "stdout",
     "output_type": "stream",
     "text": [
      "CPU times: total: 0 ns\n",
      "Wall time: 1.32 ms\n"
     ]
    }
   ],
   "source": [
    "%time my_arr2 = my_arr * 2"
   ]
  },
  {
   "cell_type": "code",
   "execution_count": 3,
   "id": "cc2b030c",
   "metadata": {},
   "outputs": [
    {
     "name": "stdout",
     "output_type": "stream",
     "text": [
      "CPU times: total: 0 ns\n",
      "Wall time: 57.9 ms\n"
     ]
    }
   ],
   "source": [
    "%time my_list2 = [x * 2 for x in my_list]"
   ]
  },
  {
   "cell_type": "code",
   "execution_count": 4,
   "id": "8f32885b",
   "metadata": {},
   "outputs": [
    {
     "name": "stdout",
     "output_type": "stream",
     "text": [
      "Hello world\n"
     ]
    }
   ],
   "source": [
    "print('Hello world')"
   ]
  },
  {
   "cell_type": "code",
   "execution_count": 5,
   "id": "0ce8ee4b",
   "metadata": {},
   "outputs": [
    {
     "data": {
      "text/plain": [
       "'C:\\\\Users\\\\鱼鳍\\\\Desktop\\\\Jupyter'"
      ]
     },
     "execution_count": 5,
     "metadata": {},
     "output_type": "execute_result"
    }
   ],
   "source": [
    "%pwd"
   ]
  },
  {
   "cell_type": "code",
   "execution_count": 6,
   "id": "3961ce7e",
   "metadata": {},
   "outputs": [],
   "source": [
    "a = [1,2,3,4,5,6]"
   ]
  },
  {
   "cell_type": "code",
   "execution_count": 7,
   "id": "35b7a709",
   "metadata": {},
   "outputs": [
    {
     "data": {
      "text/plain": [
       "[1, 2, 3, 4, 5, 6]"
      ]
     },
     "execution_count": 7,
     "metadata": {},
     "output_type": "execute_result"
    }
   ],
   "source": [
    "a"
   ]
  },
  {
   "cell_type": "code",
   "execution_count": 8,
   "id": "db031cd2",
   "metadata": {},
   "outputs": [],
   "source": [
    "b = [0,0,0,0,0,0]\n",
    "c = list(zip(a,b))"
   ]
  },
  {
   "cell_type": "code",
   "execution_count": 9,
   "id": "fc9ef0b5",
   "metadata": {},
   "outputs": [
    {
     "data": {
      "text/plain": [
       "[(1, 0), (2, 0), (3, 0), (4, 0), (5, 0), (6, 0)]"
      ]
     },
     "execution_count": 9,
     "metadata": {},
     "output_type": "execute_result"
    }
   ],
   "source": [
    "c"
   ]
  },
  {
   "cell_type": "code",
   "execution_count": 10,
   "id": "685e7ea5",
   "metadata": {},
   "outputs": [
    {
     "name": "stdout",
     "output_type": "stream",
     "text": [
      "this is a new interger 0\n",
      "this is a new interger 1\n",
      "this is a new interger 2\n",
      "this is a new interger 3\n",
      "this is a new interger 4\n",
      "this is a new interger 5\n",
      "this is a new interger 6\n",
      "this is a new interger 7\n",
      "this is a new interger 8\n",
      "this is a new interger 9\n"
     ]
    }
   ],
   "source": [
    "for i in range(10):\n",
    "    print('this is a new interger', i)"
   ]
  },
  {
   "cell_type": "code",
   "execution_count": 11,
   "id": "0ad53194",
   "metadata": {},
   "outputs": [
    {
     "name": "stdout",
     "output_type": "stream",
     "text": [
      "1 4 3\n"
     ]
    }
   ],
   "source": [
    "def func_with_keywords(abra=1, abbra=2, abbbra=3):\n",
    "    print(abra, abbra, abbbra)\n",
    "\n",
    "func_with_keywords(abra=1, abbbra=3, abbra=4)"
   ]
  },
  {
   "cell_type": "code",
   "execution_count": 12,
   "id": "a4807163",
   "metadata": {},
   "outputs": [],
   "source": [
    "b = [1,2,3]\n",
    "print?"
   ]
  },
  {
   "cell_type": "code",
   "execution_count": 13,
   "id": "5ac7adf1",
   "metadata": {},
   "outputs": [],
   "source": [
    "def add_numbers(a, b):\n",
    "    \"\"\"\n",
    "    Add two numbers together\n",
    "    Returns\n",
    "    ------\n",
    "    the_sum:type of arguments\n",
    "    \"\"\"\n",
    "    return a+b\n",
    "\n",
    "add_numbers?"
   ]
  },
  {
   "cell_type": "code",
   "execution_count": 14,
   "id": "e4b62f4b",
   "metadata": {},
   "outputs": [],
   "source": [
    "import numpy as np"
   ]
  },
  {
   "cell_type": "markdown",
   "id": "c07a0c98",
   "metadata": {},
   "source": [
    "## numpy基本操作"
   ]
  },
  {
   "cell_type": "markdown",
   "id": "2620a7c3",
   "metadata": {},
   "source": [
    "#### 生成随机数组（需要指明维度）"
   ]
  },
  {
   "cell_type": "code",
   "execution_count": 15,
   "id": "34622292",
   "metadata": {},
   "outputs": [
    {
     "data": {
      "text/plain": [
       "array([-1.73906814,  1.04467371,  0.93269865, -0.86598995, -1.11045119,\n",
       "       -0.76657423, -0.03553472, -0.97751673])"
      ]
     },
     "execution_count": 15,
     "metadata": {},
     "output_type": "execute_result"
    }
   ],
   "source": [
    "oned = np.random.randn(8)\n",
    "oned"
   ]
  },
  {
   "cell_type": "code",
   "execution_count": 16,
   "id": "eb2a84ef",
   "metadata": {},
   "outputs": [
    {
     "data": {
      "text/plain": [
       "array([[ 0.77894704, -0.05509005,  0.64173659,  1.44291417],\n",
       "       [-1.1389226 , -0.63511905,  0.24783836, -2.40247433],\n",
       "       [ 0.0587444 , -1.47808614, -0.14910713, -0.7479905 ],\n",
       "       [-0.70315122, -1.55955324, -0.244759  ,  0.12334673]])"
      ]
     },
     "execution_count": 16,
     "metadata": {},
     "output_type": "execute_result"
    }
   ],
   "source": [
    "twod = np.random.randn(4,4)\n",
    "twod"
   ]
  },
  {
   "cell_type": "code",
   "execution_count": 17,
   "id": "32f8c18f",
   "metadata": {},
   "outputs": [
    {
     "data": {
      "text/plain": [
       "array([[[-0.31017914],\n",
       "        [-0.04292014]],\n",
       "\n",
       "       [[-1.09458285],\n",
       "        [ 1.21693839]],\n",
       "\n",
       "       [[-0.01446437],\n",
       "        [ 0.26888277]]])"
      ]
     },
     "execution_count": 17,
     "metadata": {},
     "output_type": "execute_result"
    }
   ],
   "source": [
    "threed = np.random.randn(3,2,1)\n",
    "threed"
   ]
  },
  {
   "cell_type": "markdown",
   "id": "8810e241",
   "metadata": {},
   "source": [
    "#### 任何维度的数组都可以像标量一样进行运算"
   ]
  },
  {
   "cell_type": "code",
   "execution_count": 18,
   "id": "acd7ced1",
   "metadata": {},
   "outputs": [
    {
     "data": {
      "text/plain": [
       "array([[[-0.62035827],\n",
       "        [-0.08584028]],\n",
       "\n",
       "       [[-2.1891657 ],\n",
       "        [ 2.43387678]],\n",
       "\n",
       "       [[-0.02892874],\n",
       "        [ 0.53776554]]])"
      ]
     },
     "execution_count": 18,
     "metadata": {},
     "output_type": "execute_result"
    }
   ],
   "source": [
    "threed * 2"
   ]
  },
  {
   "cell_type": "markdown",
   "id": "870b6baa",
   "metadata": {},
   "source": [
    "关键属性：\n",
    "- shape：表示多维数组的形状\n",
    "- dtype：**ndarray所有的数据必须是相同类型（或者解释为相同类型）**，dtype就是这个类型\n",
    "- ndim：表示多维数组的【维数】"
   ]
  },
  {
   "cell_type": "markdown",
   "id": "22a62dec",
   "metadata": {},
   "source": [
    "#### 初始化ndarray\n",
    "- np.array(接收任何序列型对象)\n",
    "- np.ones(形状2,3,4)\n",
    "- np.zeros()\n",
    "- np.empty()\n",
    "- np.full()\n",
    "- np.arange(10)整数 或者 np.arange(10).reshape(2,5)形状"
   ]
  },
  {
   "cell_type": "markdown",
   "id": "82556e7b",
   "metadata": {},
   "source": [
    "> array函数接收任意的序列型的对象"
   ]
  },
  {
   "cell_type": "code",
   "execution_count": 19,
   "id": "03f0b283",
   "metadata": {},
   "outputs": [
    {
     "data": {
      "text/plain": [
       "array([[1, 2, 3],\n",
       "       [4, 5, 6]])"
      ]
     },
     "execution_count": 19,
     "metadata": {},
     "output_type": "execute_result"
    }
   ],
   "source": [
    "# python列表\n",
    "arr_stest_1 = np.array([[1,2,3],[4,5,6]])\n",
    "arr_stest_1"
   ]
  },
  {
   "cell_type": "code",
   "execution_count": 20,
   "id": "bf8bdbc9",
   "metadata": {},
   "outputs": [
    {
     "data": {
      "text/plain": [
       "array(b'my n', dtype='|S4')"
      ]
     },
     "execution_count": 20,
     "metadata": {},
     "output_type": "execute_result"
    }
   ],
   "source": [
    "# 字符串，但是并不能按照字符序列的方式初始化为字符数组，而是字符串整体作为一个元素，形成一个0维数组\n",
    "arr_stest_2 = np.array('my name is samsun hahaha', dtype='S4')\n",
    "arr_stest_2"
   ]
  },
  {
   "cell_type": "code",
   "execution_count": 21,
   "id": "c1f2a037",
   "metadata": {},
   "outputs": [
    {
     "data": {
      "text/plain": [
       "array([1, 2, 3, 4, 5])"
      ]
     },
     "execution_count": 21,
     "metadata": {},
     "output_type": "execute_result"
    }
   ],
   "source": [
    "# python 元组\n",
    "arr_stest_3 = np.array((1,2,3,4,5))\n",
    "arr_stest_3"
   ]
  },
  {
   "cell_type": "code",
   "execution_count": 22,
   "id": "2ef9f3e4",
   "metadata": {},
   "outputs": [
    {
     "data": {
      "text/plain": [
       "array([[1, 2],\n",
       "       [3, 4],\n",
       "       [5, 6]])"
      ]
     },
     "execution_count": 22,
     "metadata": {},
     "output_type": "execute_result"
    }
   ],
   "source": [
    "# python元组，会按照多维数组的形式来解释\n",
    "arr_stest_3 = np.array(((1,2),(3,4),(5,6)))\n",
    "arr_stest_3"
   ]
  },
  {
   "cell_type": "code",
   "execution_count": 23,
   "id": "0fdc6f5d",
   "metadata": {},
   "outputs": [
    {
     "data": {
      "text/plain": [
       "array({'a': 1, 'b': 2}, dtype=object)"
      ]
     },
     "execution_count": 23,
     "metadata": {},
     "output_type": "execute_result"
    }
   ],
   "source": [
    "# python字典并不可以\n",
    "arr_stest_4 = np.array({'a':1, 'b':2})\n",
    "arr_stest_4"
   ]
  },
  {
   "cell_type": "code",
   "execution_count": 24,
   "id": "b8b41dbc",
   "metadata": {},
   "outputs": [
    {
     "data": {
      "text/plain": [
       "array([[[0., 0., 0., 0.],\n",
       "        [0., 0., 0., 0.],\n",
       "        [0., 0., 0., 0.]],\n",
       "\n",
       "       [[0., 0., 0., 0.],\n",
       "        [0., 0., 0., 0.],\n",
       "        [0., 0., 0., 0.]]])"
      ]
     },
     "execution_count": 24,
     "metadata": {},
     "output_type": "execute_result"
    }
   ],
   "source": [
    "arr_stest_5 = np.zeros((2,3,4))\n",
    "arr_stest_5"
   ]
  },
  {
   "cell_type": "code",
   "execution_count": 25,
   "id": "9b967ccf",
   "metadata": {},
   "outputs": [
    {
     "data": {
      "text/plain": [
       "array([[[0., 0., 0., 0.],\n",
       "        [0., 0., 0., 0.],\n",
       "        [0., 0., 0., 0.]],\n",
       "\n",
       "       [[0., 0., 0., 0.],\n",
       "        [0., 0., 0., 0.],\n",
       "        [0., 0., 0., 0.]]])"
      ]
     },
     "execution_count": 25,
     "metadata": {},
     "output_type": "execute_result"
    }
   ],
   "source": [
    "# empty函数与zeros函数完全一样\n",
    "arr_stest_5_empty = np.empty((2,3,4))\n",
    "arr_stest_5_empty"
   ]
  },
  {
   "cell_type": "code",
   "execution_count": 26,
   "id": "72f05305",
   "metadata": {},
   "outputs": [
    {
     "data": {
      "text/plain": [
       "array([[[1211, 1211, 1211, 1211],\n",
       "        [1211, 1211, 1211, 1211],\n",
       "        [1211, 1211, 1211, 1211]],\n",
       "\n",
       "       [[1211, 1211, 1211, 1211],\n",
       "        [1211, 1211, 1211, 1211],\n",
       "        [1211, 1211, 1211, 1211]]])"
      ]
     },
     "execution_count": 26,
     "metadata": {},
     "output_type": "execute_result"
    }
   ],
   "source": [
    "arr_stest_5_full = np.full((2,3,4),1211)\n",
    "arr_stest_5_full"
   ]
  },
  {
   "cell_type": "code",
   "execution_count": 27,
   "id": "6378036b",
   "metadata": {},
   "outputs": [
    {
     "data": {
      "text/plain": [
       "array([[ 0,  1,  2,  3,  4,  5,  6,  7,  8,  9],\n",
       "       [10, 11, 12, 13, 14, 15, 16, 17, 18, 19]])"
      ]
     },
     "execution_count": 27,
     "metadata": {},
     "output_type": "execute_result"
    }
   ],
   "source": [
    "# arange建立一个一维数组，然后reshape会重塑一维数组的形状\n",
    "arr_arange = np.arange(20).reshape(2,10)\n",
    "arr_arange"
   ]
  },
  {
   "cell_type": "markdown",
   "id": "290ae978",
   "metadata": {},
   "source": [
    "#### 数组元素的类型\n",
    "ndarray的dtype可以转换\n",
    "a.astype()"
   ]
  },
  {
   "cell_type": "code",
   "execution_count": 28,
   "id": "e39ded7b",
   "metadata": {},
   "outputs": [
    {
     "data": {
      "text/plain": [
       "array([[[b'1211', b'1211', b'1211', b'1211'],\n",
       "        [b'1211', b'1211', b'1211', b'1211'],\n",
       "        [b'1211', b'1211', b'1211', b'1211']],\n",
       "\n",
       "       [[b'1211', b'1211', b'1211', b'1211'],\n",
       "        [b'1211', b'1211', b'1211', b'1211'],\n",
       "        [b'1211', b'1211', b'1211', b'1211']]], dtype='|S11')"
      ]
     },
     "execution_count": 28,
     "metadata": {},
     "output_type": "execute_result"
    }
   ],
   "source": [
    "# 前面数组的类型转换为字符串\n",
    "arr_stest_5_full.astype('string_')"
   ]
  },
  {
   "cell_type": "markdown",
   "id": "d7b4d069",
   "metadata": {},
   "source": [
    "Numpy可以批量操作但是不需要for循环\n",
    "- *\n",
    "- -\n",
    "- /\n",
    "- ** (乘方)\n",
    "- 逻辑运算\n",
    "    - \\> <"
   ]
  },
  {
   "cell_type": "code",
   "execution_count": 29,
   "id": "5d5a6fce",
   "metadata": {},
   "outputs": [
    {
     "data": {
      "text/plain": [
       "array([[ 0.7463107 ,  1.40408055, -1.22229895, -0.00575272],\n",
       "       [-0.5302594 , -1.4602778 , -0.62978992, -0.5654956 ]])"
      ]
     },
     "execution_count": 29,
     "metadata": {},
     "output_type": "execute_result"
    }
   ],
   "source": [
    "arr_argi = np.random.randn(2,4)\n",
    "arr_argi"
   ]
  },
  {
   "cell_type": "code",
   "execution_count": 30,
   "id": "a14c9aa0",
   "metadata": {},
   "outputs": [
    {
     "data": {
      "text/plain": [
       "array([[ 1.7463107 ,  2.40408055, -0.22229895,  0.99424728],\n",
       "       [ 0.4697406 , -0.4602778 ,  0.37021008,  0.4345044 ]])"
      ]
     },
     "execution_count": 30,
     "metadata": {},
     "output_type": "execute_result"
    }
   ],
   "source": [
    "arr_argi + 1"
   ]
  },
  {
   "cell_type": "code",
   "execution_count": 31,
   "id": "0e09af67",
   "metadata": {},
   "outputs": [
    {
     "data": {
      "text/plain": [
       "False"
      ]
     },
     "execution_count": 31,
     "metadata": {},
     "output_type": "execute_result"
    }
   ],
   "source": [
    "arr_argi in arr_argi + 1"
   ]
  },
  {
   "cell_type": "code",
   "execution_count": 32,
   "id": "e9b4a921",
   "metadata": {},
   "outputs": [
    {
     "data": {
      "text/plain": [
       "array([[False, False,  True,  True],\n",
       "       [ True,  True,  True,  True]])"
      ]
     },
     "execution_count": 32,
     "metadata": {},
     "output_type": "execute_result"
    }
   ],
   "source": [
    "arr_argi > arr_argi * 2"
   ]
  },
  {
   "cell_type": "code",
   "execution_count": 33,
   "id": "28e71fa0",
   "metadata": {},
   "outputs": [
    {
     "data": {
      "text/plain": [
       "array([ True,  True])"
      ]
     },
     "execution_count": 33,
     "metadata": {},
     "output_type": "execute_result"
    }
   ],
   "source": [
    "arr_argi.any(1)"
   ]
  },
  {
   "cell_type": "markdown",
   "id": "e5617c25",
   "metadata": {},
   "source": [
    "#### 索引：数组当中的【查】\n",
    "- 基础索引和切片\n",
    "- 布尔索引 传入一个布尔数组（可以是通过逻辑运算得到的）\n",
    "- 神奇索引，按照维度顺序，输入候选坐标，然后输出各个维度坐标的交点；神奇索引的结果总是一维的"
   ]
  },
  {
   "cell_type": "markdown",
   "id": "da82a14e",
   "metadata": {},
   "source": [
    "#### 数组的转置和换轴\n",
    "- a.transpose()\n",
    "- a.T\n",
    "- a.swapaxes()\n"
   ]
  },
  {
   "cell_type": "markdown",
   "id": "9a8a7cd5",
   "metadata": {},
   "source": [
    "#### 通用函数：【逐元素】函数\n",
    "- 一元通用函数：sqrt,exp\n",
    "- 二元通用函数：add,maximum 接收两个数组，返回一个数组\n"
   ]
  },
  {
   "cell_type": "code",
   "execution_count": 69,
   "id": "8efad045",
   "metadata": {},
   "outputs": [
    {
     "data": {
      "text/plain": [
       "array([[0, 1],\n",
       "       [2, 3]])"
      ]
     },
     "execution_count": 69,
     "metadata": {},
     "output_type": "execute_result"
    }
   ],
   "source": [
    "logical_arr1 = np.arange(4).reshape(2,2)\n",
    "logical_arr1"
   ]
  },
  {
   "cell_type": "code",
   "execution_count": 70,
   "id": "89f56ce0",
   "metadata": {},
   "outputs": [
    {
     "data": {
      "text/plain": [
       "array([[1, 2],\n",
       "       [3, 4]])"
      ]
     },
     "execution_count": 70,
     "metadata": {},
     "output_type": "execute_result"
    }
   ],
   "source": [
    "logical_arr2 = np.arange(1,5).reshape(2,2)\n",
    "logical_arr2"
   ]
  },
  {
   "cell_type": "code",
   "execution_count": 72,
   "id": "6db68d5d",
   "metadata": {},
   "outputs": [
    {
     "data": {
      "text/plain": [
       "array([[False,  True],\n",
       "       [ True,  True]])"
      ]
     },
     "execution_count": 72,
     "metadata": {},
     "output_type": "execute_result"
    }
   ],
   "source": [
    "np.logical_and(logical_arr1, logical_arr2)"
   ]
  },
  {
   "cell_type": "code",
   "execution_count": 73,
   "id": "d395935f",
   "metadata": {},
   "outputs": [
    {
     "data": {
      "text/plain": [
       "array([[ True,  True],\n",
       "       [ True,  True]])"
      ]
     },
     "execution_count": 73,
     "metadata": {},
     "output_type": "execute_result"
    }
   ],
   "source": [
    "np.logical_or(logical_arr1, logical_arr2)"
   ]
  },
  {
   "cell_type": "markdown",
   "id": "446cb2d8",
   "metadata": {},
   "source": [
    "#### 面向数组编程：拒绝for循环（向量化）"
   ]
  },
  {
   "cell_type": "code",
   "execution_count": 75,
   "id": "763d29d6",
   "metadata": {},
   "outputs": [],
   "source": [
    "points = np.arange(-5, 5, 0.01)\n",
    "xs, ys = np.meshgrid(points, points)"
   ]
  },
  {
   "cell_type": "code",
   "execution_count": 76,
   "id": "0e4c8960",
   "metadata": {},
   "outputs": [
    {
     "data": {
      "text/plain": [
       "array([[-5.  , -4.99, -4.98, ...,  4.97,  4.98,  4.99],\n",
       "       [-5.  , -4.99, -4.98, ...,  4.97,  4.98,  4.99],\n",
       "       [-5.  , -4.99, -4.98, ...,  4.97,  4.98,  4.99],\n",
       "       ...,\n",
       "       [-5.  , -4.99, -4.98, ...,  4.97,  4.98,  4.99],\n",
       "       [-5.  , -4.99, -4.98, ...,  4.97,  4.98,  4.99],\n",
       "       [-5.  , -4.99, -4.98, ...,  4.97,  4.98,  4.99]])"
      ]
     },
     "execution_count": 76,
     "metadata": {},
     "output_type": "execute_result"
    }
   ],
   "source": [
    "xs"
   ]
  },
  {
   "cell_type": "code",
   "execution_count": 77,
   "id": "fb819de8",
   "metadata": {},
   "outputs": [
    {
     "data": {
      "text/plain": [
       "array([[-5.  , -5.  , -5.  , ..., -5.  , -5.  , -5.  ],\n",
       "       [-4.99, -4.99, -4.99, ..., -4.99, -4.99, -4.99],\n",
       "       [-4.98, -4.98, -4.98, ..., -4.98, -4.98, -4.98],\n",
       "       ...,\n",
       "       [ 4.97,  4.97,  4.97, ...,  4.97,  4.97,  4.97],\n",
       "       [ 4.98,  4.98,  4.98, ...,  4.98,  4.98,  4.98],\n",
       "       [ 4.99,  4.99,  4.99, ...,  4.99,  4.99,  4.99]])"
      ]
     },
     "execution_count": 77,
     "metadata": {},
     "output_type": "execute_result"
    }
   ],
   "source": [
    "ys"
   ]
  },
  {
   "cell_type": "code",
   "execution_count": 78,
   "id": "43fdcb1c",
   "metadata": {},
   "outputs": [
    {
     "data": {
      "text/plain": [
       "array([[7.07106781, 7.06400028, 7.05693985, ..., 7.04988652, 7.05693985,\n",
       "        7.06400028],\n",
       "       [7.06400028, 7.05692568, 7.04985815, ..., 7.04279774, 7.04985815,\n",
       "        7.05692568],\n",
       "       [7.05693985, 7.04985815, 7.04278354, ..., 7.03571603, 7.04278354,\n",
       "        7.04985815],\n",
       "       ...,\n",
       "       [7.04988652, 7.04279774, 7.03571603, ..., 7.0286414 , 7.03571603,\n",
       "        7.04279774],\n",
       "       [7.05693985, 7.04985815, 7.04278354, ..., 7.03571603, 7.04278354,\n",
       "        7.04985815],\n",
       "       [7.06400028, 7.05692568, 7.04985815, ..., 7.04279774, 7.04985815,\n",
       "        7.05692568]])"
      ]
     },
     "execution_count": 78,
     "metadata": {},
     "output_type": "execute_result"
    }
   ],
   "source": [
    "z = np.sqrt(xs ** 2 + ys ** 2)\n",
    "z"
   ]
  },
  {
   "cell_type": "code",
   "execution_count": 81,
   "id": "6e563f8e",
   "metadata": {},
   "outputs": [
    {
     "data": {
      "text/plain": [
       "Text(0.5, 1.0, 'Image plot of $\\\\sqrt{x^2 + y^2}$ for a grid of values')"
      ]
     },
     "execution_count": 81,
     "metadata": {},
     "output_type": "execute_result"
    },
    {
     "data": {
      "image/png": "[encoded data removed]",
      "text/plain": [
       "<Figure size 432x288 with 2 Axes>"
      ]
     },
     "metadata": {
      "needs_background": "light"
     },
     "output_type": "display_data"
    }
   ],
   "source": [
    "import matplotlib.pyplot as plt\n",
    "plt.imshow(z, cmap=plt.cm.gray);plt.colorbar()\n",
    "plt.title(\"Image plot of $\\sqrt{x^2 + y^2}$ for a grid of values\")"
   ]
  },
  {
   "cell_type": "markdown",
   "id": "3afcab8d",
   "metadata": {},
   "source": [
    "平方计算与开方计算都按照标量方式进行"
   ]
  },
  {
   "cell_type": "markdown",
   "id": "42b7fda0",
   "metadata": {},
   "source": [
    "#### 逻辑操作\n",
    "- np.where函数 x if condition else y的向量化版本\n",
    "- result = np.where(cond, xarr, yarr)\n",
    "- 核心逻辑还是在cond xarr yarr的相同的相对位置上，进行**逐元素**操作"
   ]
  },
  {
   "cell_type": "markdown",
   "id": "a81bdef7",
   "metadata": {},
   "source": [
    "#### 数学和统计方法\n",
    "计算\n",
    "- 整个数组的统计值\n",
    "- 关于轴向的数据统计的\n",
    "数学函数\n",
    "\n",
    "- 顶层函数\n",
    "- 实例函数\n",
    "都支持\n",
    "\n",
    "sum、mean、std"
   ]
  },
  {
   "cell_type": "code",
   "execution_count": 83,
   "id": "375992ff",
   "metadata": {},
   "outputs": [
    {
     "data": {
      "text/plain": [
       "array([[0, 1, 2, 3, 4],\n",
       "       [5, 6, 7, 8, 9]])"
      ]
     },
     "execution_count": 83,
     "metadata": {},
     "output_type": "execute_result"
    }
   ],
   "source": [
    "arr_stat = np.arange(10).reshape(2,5)\n",
    "arr_stat"
   ]
  },
  {
   "cell_type": "code",
   "execution_count": 84,
   "id": "5600c31f",
   "metadata": {},
   "outputs": [
    {
     "data": {
      "text/plain": [
       "array([10, 35])"
      ]
     },
     "execution_count": 84,
     "metadata": {},
     "output_type": "execute_result"
    }
   ],
   "source": [
    "arr_stat.sum(1)"
   ]
  },
  {
   "cell_type": "code",
   "execution_count": 85,
   "id": "cc4f9398",
   "metadata": {},
   "outputs": [
    {
     "data": {
      "text/plain": [
       "array([ 5,  7,  9, 11, 13])"
      ]
     },
     "execution_count": 85,
     "metadata": {},
     "output_type": "execute_result"
    }
   ],
   "source": [
    "arr_stat.sum(0)"
   ]
  },
  {
   "cell_type": "code",
   "execution_count": 87,
   "id": "fcc1c6f0",
   "metadata": {},
   "outputs": [
    {
     "data": {
      "text/plain": [
       "array([[ 0,  1,  2,  3,  4],\n",
       "       [ 5,  7,  9, 11, 13]])"
      ]
     },
     "execution_count": 87,
     "metadata": {},
     "output_type": "execute_result"
    }
   ],
   "source": [
    "arr_stat.cumsum(axis = 0)"
   ]
  },
  {
   "cell_type": "code",
   "execution_count": 88,
   "id": "414c5ec0",
   "metadata": {},
   "outputs": [
    {
     "data": {
      "text/plain": [
       "array([[ 0,  1,  3,  6, 10],\n",
       "       [ 5, 11, 18, 26, 35]])"
      ]
     },
     "execution_count": 88,
     "metadata": {},
     "output_type": "execute_result"
    }
   ],
   "source": [
    "arr_stat.cumsum(axis = 1)"
   ]
  },
  {
   "cell_type": "markdown",
   "id": "4ce04bde",
   "metadata": {},
   "source": [
    "#### bool 数组的方法 any与all"
   ]
  },
  {
   "cell_type": "markdown",
   "id": "0184801a",
   "metadata": {},
   "source": []
  },
  {
   "cell_type": "code",
   "execution_count": 90,
   "id": "6c03ffd2",
   "metadata": {},
   "outputs": [
    {
     "data": {
      "text/plain": [
       "array([ True,  True,  True,  True,  True])"
      ]
     },
     "execution_count": 90,
     "metadata": {},
     "output_type": "execute_result"
    }
   ],
   "source": [
    "arr_stat.any(0)"
   ]
  },
  {
   "cell_type": "code",
   "execution_count": 92,
   "id": "e90f6f50",
   "metadata": {},
   "outputs": [
    {
     "data": {
      "text/plain": [
       "array([False,  True])"
      ]
     },
     "execution_count": 92,
     "metadata": {},
     "output_type": "execute_result"
    }
   ],
   "source": [
    "arr_stat.all(1)"
   ]
  },
  {
   "cell_type": "markdown",
   "id": "95165c41",
   "metadata": {},
   "source": [
    "#### 排序\n",
    "目前只介绍sort函数，这个排序能够控制的部分相对粗放，只能完成全部、0轴向、1轴向这样的粒度的排序"
   ]
  },
  {
   "cell_type": "code",
   "execution_count": 93,
   "id": "f90c5d22",
   "metadata": {},
   "outputs": [],
   "source": [
    "arr_sort = np.random.randn(4,4)"
   ]
  },
  {
   "cell_type": "code",
   "execution_count": 94,
   "id": "891cbeab",
   "metadata": {},
   "outputs": [
    {
     "data": {
      "text/plain": [
       "array([[ 1.07793478,  0.88060526,  0.04520208,  0.94784519],\n",
       "       [ 2.14122682,  0.15951763, -0.11717669,  0.57484605],\n",
       "       [ 0.16235292,  0.54806457,  1.8127298 ,  1.56037826],\n",
       "       [ 0.07472589, -1.18710638,  1.93571558,  0.19813504]])"
      ]
     },
     "execution_count": 94,
     "metadata": {},
     "output_type": "execute_result"
    }
   ],
   "source": [
    "arr_sort"
   ]
  },
  {
   "cell_type": "code",
   "execution_count": 95,
   "id": "29376368",
   "metadata": {},
   "outputs": [
    {
     "data": {
      "text/plain": [
       "array([[ 0.07472589, -1.18710638, -0.11717669,  0.19813504],\n",
       "       [ 0.16235292,  0.15951763,  0.04520208,  0.57484605],\n",
       "       [ 1.07793478,  0.54806457,  1.8127298 ,  0.94784519],\n",
       "       [ 2.14122682,  0.88060526,  1.93571558,  1.56037826]])"
      ]
     },
     "execution_count": 95,
     "metadata": {},
     "output_type": "execute_result"
    }
   ],
   "source": [
    "arr_sort.sort(0)\n",
    "arr_sort"
   ]
  },
  {
   "cell_type": "markdown",
   "id": "e459db9a",
   "metadata": {},
   "source": [
    "#### 唯一值 和 其他集合逻辑\n",
    "唯一值（并排序）数组=np.unique(带有重复的数组)\n",
    "集合操作\n",
    "- 交集\n",
    "- 并集\n",
    "- 元素是否包含\n",
    "- 差集\n",
    "- 异或（在x或者y中，但是并不属于二者交集的元素）"
   ]
  },
  {
   "cell_type": "markdown",
   "id": "08cfa2cf",
   "metadata": {},
   "source": [
    "#### 文件输入输出（略）"
   ]
  },
  {
   "cell_type": "markdown",
   "id": "441fe69d",
   "metadata": {},
   "source": [
    "#### 线性代数\n",
    "- \\* 数乘\n",
    "- np.dot(a,b) 或者 a.dot(b) 点积\n",
    "- numpy.linalg标准函数集"
   ]
  },
  {
   "cell_type": "markdown",
   "id": "8f928639",
   "metadata": {},
   "source": [
    "#### 伪随机数的生成\n",
    "生成多种概率分布下，完整样本值数组"
   ]
  },
  {
   "cell_type": "markdown",
   "id": "398da799",
   "metadata": {},
   "source": [
    "随机漫步，以下"
   ]
  },
  {
   "cell_type": "code",
   "execution_count": 34,
   "id": "7fc4b6d6",
   "metadata": {},
   "outputs": [],
   "source": [
    "def f(x, y, z):\n",
    "    return (x + y)/z\n",
    "a = 5\n",
    "b = 6\n",
    "c = 7.5\n",
    "\n",
    "result = f(a,b,c)"
   ]
  },
  {
   "cell_type": "code",
   "execution_count": 35,
   "id": "9607a305",
   "metadata": {},
   "outputs": [],
   "source": [
    "%matplotlib inline"
   ]
  },
  {
   "cell_type": "code",
   "execution_count": 36,
   "id": "12f7c508",
   "metadata": {},
   "outputs": [
    {
     "data": {
      "text/plain": [
       "[<matplotlib.lines.Line2D at 0x1cb9ecee140>]"
      ]
     },
     "execution_count": 36,
     "metadata": {},
     "output_type": "execute_result"
    },
    {
     "data": {
      "image/png": "[encoded data removed]",
      "text/plain": [
       "<Figure size 432x288 with 1 Axes>"
      ]
     },
     "metadata": {
      "needs_background": "light"
     },
     "output_type": "display_data"
    }
   ],
   "source": [
    "import matplotlib.pyplot as plt\n",
    "plt.plot(np.random.randn(50).cumsum())"
   ]
  },
  {
   "cell_type": "code",
   "execution_count": 37,
   "id": "6a3ead50",
   "metadata": {},
   "outputs": [
    {
     "name": "stdout",
     "output_type": "stream",
     "text": [
      "step: -1\n",
      "step: -1\n",
      "step: -1\n",
      "step: 1\n",
      "step: -1\n",
      "step: -1\n",
      "step: -1\n",
      "step: 1\n",
      "step: 1\n",
      "step: 1\n",
      "step: -1\n",
      "step: 1\n",
      "step: 1\n",
      "step: -1\n",
      "step: 1\n",
      "step: 1\n",
      "step: 1\n",
      "step: 1\n",
      "step: 1\n",
      "step: 1\n",
      "step: -1\n",
      "step: 1\n",
      "step: 1\n",
      "step: -1\n",
      "step: 1\n",
      "step: 1\n",
      "step: 1\n",
      "step: -1\n",
      "step: -1\n",
      "step: 1\n",
      "step: -1\n",
      "step: -1\n",
      "step: 1\n",
      "step: -1\n",
      "step: -1\n",
      "step: -1\n",
      "step: 1\n",
      "step: 1\n",
      "step: -1\n",
      "step: 1\n",
      "step: 1\n",
      "step: 1\n",
      "step: 1\n",
      "step: 1\n",
      "step: -1\n",
      "step: -1\n",
      "step: -1\n",
      "step: 1\n",
      "step: -1\n",
      "step: 1\n",
      "step: 1\n",
      "step: -1\n",
      "step: 1\n",
      "step: 1\n",
      "step: 1\n",
      "step: -1\n",
      "step: -1\n",
      "step: 1\n",
      "step: -1\n",
      "step: 1\n",
      "step: -1\n",
      "step: 1\n",
      "step: 1\n",
      "step: 1\n",
      "step: -1\n",
      "step: -1\n",
      "step: 1\n",
      "step: -1\n",
      "step: -1\n",
      "step: -1\n",
      "step: -1\n",
      "step: 1\n",
      "step: -1\n",
      "step: 1\n",
      "step: -1\n",
      "step: 1\n",
      "step: -1\n",
      "step: -1\n",
      "step: -1\n",
      "step: 1\n",
      "step: 1\n",
      "step: 1\n",
      "step: -1\n",
      "step: -1\n",
      "step: 1\n",
      "step: -1\n",
      "step: -1\n",
      "step: 1\n",
      "step: -1\n",
      "step: 1\n",
      "step: -1\n",
      "step: -1\n",
      "step: 1\n",
      "step: -1\n",
      "step: 1\n",
      "step: 1\n",
      "step: -1\n",
      "step: 1\n",
      "step: -1\n",
      "step: 1\n",
      "step: -1\n",
      "step: 1\n",
      "step: 1\n",
      "step: -1\n",
      "step: -1\n",
      "step: -1\n",
      "step: -1\n",
      "step: -1\n",
      "step: 1\n",
      "step: -1\n",
      "step: 1\n",
      "step: 1\n",
      "step: -1\n",
      "step: 1\n",
      "step: -1\n",
      "step: 1\n",
      "step: 1\n",
      "step: -1\n",
      "step: 1\n",
      "step: 1\n",
      "step: -1\n",
      "step: 1\n",
      "step: 1\n",
      "step: -1\n",
      "step: -1\n",
      "step: 1\n",
      "step: -1\n",
      "step: -1\n",
      "step: -1\n",
      "step: -1\n",
      "step: 1\n",
      "step: -1\n",
      "step: -1\n",
      "step: -1\n",
      "step: -1\n",
      "step: -1\n",
      "step: -1\n",
      "step: 1\n",
      "step: 1\n",
      "step: 1\n",
      "step: -1\n",
      "step: -1\n",
      "step: 1\n",
      "step: -1\n",
      "step: 1\n",
      "step: -1\n",
      "step: -1\n",
      "step: 1\n",
      "step: 1\n",
      "step: 1\n",
      "step: 1\n",
      "step: -1\n",
      "step: -1\n",
      "step: 1\n",
      "step: -1\n",
      "step: -1\n",
      "step: -1\n",
      "step: -1\n",
      "step: -1\n",
      "step: 1\n",
      "step: -1\n",
      "step: -1\n",
      "step: 1\n",
      "step: -1\n",
      "step: -1\n",
      "step: 1\n",
      "step: -1\n",
      "step: 1\n",
      "step: 1\n",
      "step: 1\n",
      "step: -1\n",
      "step: 1\n",
      "step: -1\n",
      "step: 1\n",
      "step: 1\n",
      "step: 1\n",
      "step: -1\n",
      "step: -1\n",
      "step: 1\n",
      "step: 1\n",
      "step: -1\n",
      "step: 1\n",
      "step: -1\n",
      "step: -1\n",
      "step: 1\n",
      "step: 1\n",
      "step: 1\n",
      "step: 1\n",
      "step: 1\n",
      "step: 1\n",
      "step: -1\n",
      "step: -1\n",
      "step: 1\n",
      "step: -1\n",
      "step: -1\n",
      "step: -1\n",
      "step: -1\n",
      "step: 1\n",
      "step: -1\n",
      "step: 1\n",
      "step: 1\n",
      "step: -1\n",
      "step: -1\n",
      "step: -1\n",
      "step: 1\n",
      "step: -1\n",
      "step: 1\n",
      "step: -1\n",
      "step: -1\n",
      "step: -1\n",
      "step: -1\n",
      "step: 1\n",
      "step: -1\n",
      "step: 1\n",
      "step: -1\n",
      "step: 1\n",
      "step: -1\n",
      "step: 1\n",
      "step: 1\n",
      "step: -1\n",
      "step: -1\n",
      "step: -1\n",
      "step: -1\n",
      "step: 1\n",
      "step: 1\n",
      "step: 1\n",
      "step: -1\n",
      "step: 1\n",
      "step: 1\n",
      "step: 1\n",
      "step: -1\n",
      "step: -1\n",
      "step: -1\n",
      "step: -1\n",
      "step: -1\n",
      "step: 1\n",
      "step: -1\n",
      "step: -1\n",
      "step: 1\n",
      "step: 1\n",
      "step: 1\n",
      "step: -1\n",
      "step: 1\n",
      "step: 1\n",
      "step: 1\n",
      "step: 1\n",
      "step: -1\n",
      "step: 1\n",
      "step: 1\n",
      "step: -1\n",
      "step: -1\n",
      "step: 1\n",
      "step: 1\n",
      "step: -1\n",
      "step: 1\n",
      "step: 1\n",
      "step: -1\n",
      "step: 1\n",
      "step: 1\n",
      "step: -1\n",
      "step: 1\n",
      "step: -1\n",
      "step: 1\n",
      "step: -1\n",
      "step: 1\n",
      "step: 1\n",
      "step: -1\n",
      "step: 1\n",
      "step: 1\n",
      "step: 1\n",
      "step: -1\n",
      "step: -1\n",
      "step: 1\n",
      "step: 1\n",
      "step: 1\n",
      "step: -1\n",
      "step: 1\n",
      "step: -1\n",
      "step: 1\n",
      "step: 1\n",
      "step: 1\n",
      "step: 1\n",
      "step: -1\n",
      "step: -1\n",
      "step: -1\n",
      "step: 1\n",
      "step: 1\n",
      "step: -1\n",
      "step: 1\n",
      "step: -1\n",
      "step: -1\n",
      "step: -1\n",
      "step: 1\n",
      "step: -1\n",
      "step: 1\n",
      "step: 1\n",
      "step: -1\n",
      "step: 1\n",
      "step: -1\n",
      "step: -1\n",
      "step: 1\n",
      "step: 1\n",
      "step: -1\n",
      "step: -1\n",
      "step: 1\n",
      "step: 1\n",
      "step: 1\n",
      "step: -1\n",
      "step: 1\n",
      "step: -1\n",
      "step: -1\n",
      "step: 1\n",
      "step: -1\n",
      "step: -1\n",
      "step: -1\n",
      "step: 1\n",
      "step: 1\n",
      "step: -1\n",
      "step: -1\n",
      "step: -1\n",
      "step: -1\n",
      "step: 1\n",
      "step: -1\n",
      "step: -1\n",
      "step: 1\n",
      "step: 1\n",
      "step: -1\n",
      "step: 1\n",
      "step: 1\n",
      "step: -1\n",
      "step: -1\n",
      "step: -1\n",
      "step: -1\n",
      "step: 1\n",
      "step: -1\n",
      "step: -1\n",
      "step: 1\n",
      "step: -1\n",
      "step: -1\n",
      "step: -1\n",
      "step: 1\n",
      "step: -1\n",
      "step: -1\n",
      "step: 1\n",
      "step: 1\n",
      "step: -1\n",
      "step: 1\n",
      "step: 1\n",
      "step: 1\n",
      "step: -1\n",
      "step: -1\n",
      "step: -1\n",
      "step: 1\n",
      "step: 1\n",
      "step: -1\n",
      "step: 1\n",
      "step: 1\n",
      "step: 1\n",
      "step: 1\n",
      "step: -1\n",
      "step: 1\n",
      "step: 1\n",
      "step: 1\n",
      "step: -1\n",
      "step: -1\n",
      "step: 1\n",
      "step: -1\n",
      "step: 1\n",
      "step: -1\n",
      "step: -1\n",
      "step: -1\n",
      "step: 1\n",
      "step: -1\n",
      "step: -1\n",
      "step: -1\n",
      "step: 1\n",
      "step: 1\n",
      "step: 1\n",
      "step: -1\n",
      "step: 1\n",
      "step: -1\n",
      "step: 1\n",
      "step: 1\n",
      "step: -1\n",
      "step: 1\n",
      "step: 1\n",
      "step: -1\n",
      "step: 1\n",
      "step: -1\n",
      "step: -1\n",
      "step: -1\n",
      "step: 1\n",
      "step: -1\n",
      "step: -1\n",
      "step: 1\n",
      "step: -1\n",
      "step: 1\n",
      "step: -1\n",
      "step: 1\n",
      "step: -1\n",
      "step: -1\n",
      "step: -1\n",
      "step: -1\n",
      "step: -1\n",
      "step: -1\n",
      "step: 1\n",
      "step: 1\n",
      "step: -1\n",
      "step: -1\n",
      "step: -1\n",
      "step: 1\n",
      "step: -1\n",
      "step: 1\n",
      "step: 1\n",
      "step: 1\n",
      "step: 1\n",
      "step: -1\n",
      "step: -1\n",
      "step: 1\n",
      "step: 1\n",
      "step: -1\n",
      "step: 1\n",
      "step: -1\n",
      "step: 1\n",
      "step: -1\n",
      "step: -1\n",
      "step: -1\n",
      "step: 1\n",
      "step: 1\n",
      "step: -1\n",
      "step: 1\n",
      "step: 1\n",
      "step: -1\n",
      "step: 1\n",
      "step: -1\n",
      "step: -1\n",
      "step: -1\n",
      "step: 1\n",
      "step: 1\n",
      "step: 1\n",
      "step: -1\n",
      "step: 1\n",
      "step: -1\n",
      "step: -1\n",
      "step: 1\n",
      "step: -1\n",
      "step: 1\n",
      "step: 1\n",
      "step: -1\n",
      "step: 1\n",
      "step: -1\n",
      "step: -1\n",
      "step: 1\n",
      "step: -1\n",
      "step: -1\n",
      "step: 1\n",
      "step: -1\n",
      "step: -1\n",
      "step: 1\n",
      "step: 1\n",
      "step: 1\n",
      "step: 1\n",
      "step: 1\n",
      "step: 1\n",
      "step: 1\n",
      "step: -1\n",
      "step: 1\n",
      "step: -1\n",
      "step: -1\n",
      "step: 1\n",
      "step: 1\n",
      "step: -1\n",
      "step: -1\n",
      "step: -1\n",
      "step: 1\n",
      "step: 1\n",
      "step: 1\n",
      "step: -1\n",
      "step: -1\n",
      "step: 1\n",
      "step: -1\n",
      "step: 1\n",
      "step: 1\n",
      "step: 1\n",
      "step: 1\n",
      "step: -1\n",
      "step: 1\n",
      "step: 1\n",
      "step: 1\n",
      "step: 1\n",
      "step: 1\n",
      "step: -1\n",
      "step: -1\n",
      "step: 1\n",
      "step: 1\n",
      "step: -1\n",
      "step: 1\n",
      "step: -1\n",
      "step: 1\n",
      "step: 1\n",
      "step: 1\n",
      "step: -1\n",
      "step: -1\n",
      "step: 1\n",
      "step: -1\n",
      "step: -1\n",
      "step: 1\n",
      "step: -1\n",
      "step: 1\n",
      "step: -1\n",
      "step: -1\n",
      "step: -1\n",
      "step: -1\n",
      "step: -1\n",
      "step: -1\n",
      "step: -1\n",
      "step: -1\n",
      "step: -1\n",
      "step: -1\n",
      "step: -1\n",
      "step: -1\n",
      "step: -1\n",
      "step: -1\n",
      "step: -1\n",
      "step: -1\n",
      "step: 1\n",
      "step: 1\n",
      "step: 1\n",
      "step: -1\n",
      "step: 1\n",
      "step: -1\n",
      "step: -1\n",
      "step: -1\n",
      "step: 1\n",
      "step: -1\n",
      "step: 1\n",
      "step: 1\n",
      "step: 1\n",
      "step: -1\n",
      "step: 1\n",
      "step: 1\n",
      "step: -1\n",
      "step: 1\n",
      "step: -1\n",
      "step: 1\n",
      "step: 1\n",
      "step: 1\n",
      "step: 1\n",
      "step: -1\n",
      "step: 1\n",
      "step: 1\n",
      "step: 1\n",
      "step: -1\n",
      "step: 1\n",
      "step: -1\n",
      "step: -1\n",
      "step: 1\n",
      "step: 1\n",
      "step: 1\n",
      "step: -1\n",
      "step: 1\n",
      "step: 1\n",
      "step: -1\n",
      "step: 1\n",
      "step: -1\n",
      "step: 1\n",
      "step: 1\n",
      "step: -1\n",
      "step: 1\n",
      "step: 1\n",
      "step: -1\n",
      "step: -1\n",
      "step: 1\n",
      "step: 1\n",
      "step: -1\n",
      "step: 1\n",
      "step: -1\n",
      "step: -1\n",
      "step: -1\n",
      "step: 1\n",
      "step: 1\n",
      "step: 1\n",
      "step: 1\n",
      "step: 1\n",
      "step: 1\n",
      "step: 1\n",
      "step: 1\n",
      "step: -1\n",
      "step: 1\n",
      "step: 1\n",
      "step: 1\n",
      "step: -1\n",
      "step: -1\n",
      "step: -1\n",
      "step: 1\n",
      "step: -1\n",
      "step: 1\n",
      "step: 1\n",
      "step: 1\n",
      "step: 1\n",
      "step: 1\n",
      "step: 1\n",
      "step: 1\n",
      "step: -1\n",
      "step: 1\n",
      "step: -1\n",
      "step: 1\n",
      "step: -1\n",
      "step: -1\n",
      "step: -1\n",
      "step: 1\n",
      "step: 1\n",
      "step: 1\n",
      "step: -1\n",
      "step: 1\n",
      "step: 1\n",
      "step: -1\n",
      "step: -1\n",
      "step: 1\n",
      "step: 1\n",
      "step: 1\n",
      "step: -1\n",
      "step: -1\n",
      "step: 1\n",
      "step: 1\n",
      "step: 1\n",
      "step: -1\n",
      "step: -1\n",
      "step: -1\n",
      "step: 1\n",
      "step: -1\n",
      "step: 1\n",
      "step: 1\n",
      "step: -1\n",
      "step: 1\n",
      "step: 1\n",
      "step: -1\n",
      "step: -1\n",
      "step: 1\n",
      "step: -1\n",
      "step: 1\n",
      "step: -1\n",
      "step: 1\n",
      "step: 1\n",
      "step: -1\n",
      "step: 1\n",
      "step: -1\n",
      "step: -1\n",
      "step: 1\n",
      "step: 1\n",
      "step: 1\n",
      "step: -1\n",
      "step: -1\n",
      "step: -1\n",
      "step: -1\n",
      "step: -1\n",
      "step: 1\n",
      "step: -1\n",
      "step: -1\n",
      "step: 1\n",
      "step: -1\n",
      "step: 1\n",
      "step: 1\n",
      "step: -1\n",
      "step: -1\n",
      "step: -1\n",
      "step: 1\n",
      "step: -1\n",
      "step: -1\n",
      "step: 1\n",
      "step: -1\n",
      "step: -1\n",
      "step: -1\n",
      "step: 1\n",
      "step: 1\n",
      "step: 1\n",
      "step: 1\n",
      "step: 1\n",
      "step: -1\n",
      "step: -1\n",
      "step: 1\n",
      "step: -1\n",
      "step: -1\n",
      "step: -1\n",
      "step: -1\n",
      "step: 1\n",
      "step: -1\n",
      "step: 1\n",
      "step: -1\n",
      "step: 1\n",
      "step: -1\n",
      "step: 1\n",
      "step: -1\n",
      "step: 1\n",
      "step: -1\n",
      "step: 1\n",
      "step: -1\n",
      "step: -1\n",
      "step: 1\n",
      "step: -1\n",
      "step: 1\n",
      "step: -1\n",
      "step: 1\n",
      "step: 1\n",
      "step: -1\n",
      "step: -1\n",
      "step: 1\n",
      "step: 1\n",
      "step: 1\n",
      "step: 1\n",
      "step: 1\n",
      "step: -1\n",
      "step: 1\n",
      "step: 1\n",
      "step: -1\n",
      "step: -1\n",
      "step: 1\n",
      "step: 1\n",
      "step: 1\n",
      "step: 1\n",
      "step: 1\n",
      "step: -1\n",
      "step: 1\n",
      "step: -1\n",
      "step: 1\n",
      "step: -1\n",
      "step: -1\n",
      "step: -1\n",
      "step: -1\n",
      "step: 1\n",
      "step: 1\n",
      "step: 1\n",
      "step: 1\n",
      "step: 1\n",
      "step: -1\n",
      "step: -1\n",
      "step: 1\n",
      "step: 1\n",
      "step: -1\n",
      "step: 1\n",
      "step: 1\n",
      "step: -1\n",
      "step: -1\n",
      "step: -1\n",
      "step: 1\n",
      "step: -1\n",
      "step: -1\n",
      "step: -1\n",
      "step: -1\n",
      "step: 1\n",
      "step: -1\n",
      "step: -1\n",
      "step: -1\n",
      "step: 1\n",
      "step: 1\n",
      "step: 1\n",
      "step: -1\n",
      "step: 1\n",
      "step: -1\n",
      "step: -1\n",
      "step: 1\n",
      "step: -1\n",
      "step: 1\n",
      "step: 1\n",
      "step: -1\n",
      "step: 1\n",
      "step: 1\n",
      "step: -1\n",
      "step: 1\n",
      "step: 1\n",
      "step: 1\n",
      "step: -1\n",
      "step: 1\n",
      "step: -1\n",
      "step: -1\n",
      "step: -1\n",
      "step: -1\n",
      "step: -1\n",
      "step: 1\n",
      "step: -1\n",
      "step: -1\n",
      "step: -1\n",
      "step: -1\n",
      "step: -1\n",
      "step: -1\n",
      "step: -1\n",
      "step: 1\n",
      "step: 1\n",
      "step: -1\n",
      "step: 1\n",
      "step: -1\n",
      "step: -1\n",
      "step: 1\n",
      "step: -1\n",
      "step: -1\n",
      "step: -1\n",
      "step: -1\n",
      "step: -1\n",
      "step: 1\n",
      "step: -1\n",
      "step: 1\n",
      "step: 1\n",
      "step: 1\n",
      "step: 1\n",
      "step: -1\n",
      "step: 1\n",
      "step: 1\n",
      "step: 1\n",
      "step: 1\n",
      "step: -1\n",
      "step: 1\n",
      "step: -1\n",
      "step: 1\n",
      "step: 1\n",
      "step: -1\n",
      "step: 1\n",
      "step: -1\n",
      "step: -1\n",
      "step: -1\n",
      "step: 1\n",
      "step: -1\n",
      "step: 1\n",
      "step: -1\n",
      "step: 1\n",
      "step: 1\n",
      "step: -1\n",
      "step: 1\n",
      "step: -1\n",
      "step: 1\n",
      "step: 1\n",
      "step: -1\n",
      "step: 1\n",
      "step: -1\n",
      "step: 1\n",
      "step: 1\n",
      "step: 1\n",
      "step: 1\n",
      "step: -1\n",
      "step: -1\n",
      "step: 1\n",
      "step: -1\n",
      "step: 1\n",
      "step: -1\n",
      "step: 1\n",
      "step: 1\n",
      "step: -1\n",
      "step: -1\n",
      "step: 1\n",
      "step: -1\n",
      "step: 1\n",
      "step: 1\n",
      "step: 1\n",
      "step: -1\n",
      "step: 1\n",
      "step: 1\n",
      "step: 1\n",
      "step: 1\n",
      "step: 1\n",
      "step: -1\n",
      "step: -1\n",
      "step: -1\n",
      "step: -1\n",
      "step: 1\n",
      "step: 1\n",
      "step: -1\n",
      "step: -1\n",
      "step: 1\n",
      "step: -1\n",
      "step: 1\n",
      "step: -1\n",
      "step: -1\n",
      "step: 1\n",
      "step: -1\n",
      "step: -1\n",
      "step: 1\n",
      "step: -1\n",
      "step: -1\n",
      "step: 1\n",
      "step: 1\n",
      "step: 1\n",
      "step: 1\n",
      "step: -1\n",
      "step: -1\n",
      "step: 1\n",
      "step: 1\n",
      "step: 1\n",
      "step: -1\n",
      "step: -1\n",
      "step: -1\n",
      "step: 1\n",
      "step: 1\n",
      "step: 1\n",
      "step: -1\n",
      "step: 1\n",
      "step: -1\n",
      "step: -1\n",
      "step: 1\n",
      "step: -1\n",
      "step: -1\n",
      "step: -1\n",
      "step: 1\n",
      "step: 1\n",
      "step: 1\n",
      "step: 1\n",
      "step: -1\n",
      "step: -1\n",
      "step: 1\n",
      "step: 1\n",
      "step: -1\n",
      "step: 1\n",
      "step: -1\n",
      "step: -1\n",
      "step: 1\n",
      "step: 1\n",
      "step: 1\n",
      "step: 1\n",
      "step: 1\n",
      "step: -1\n",
      "step: 1\n",
      "step: -1\n",
      "step: -1\n",
      "step: 1\n",
      "step: -1\n",
      "step: -1\n",
      "step: -1\n",
      "step: -1\n",
      "step: -1\n",
      "step: -1\n",
      "step: 1\n",
      "step: -1\n",
      "step: 1\n",
      "step: -1\n",
      "step: -1\n",
      "step: -1\n",
      "step: 1\n",
      "step: -1\n",
      "step: 1\n",
      "step: -1\n",
      "step: 1\n",
      "step: -1\n",
      "step: -1\n",
      "step: -1\n",
      "step: 1\n",
      "step: 1\n",
      "step: 1\n",
      "step: 1\n",
      "step: -1\n",
      "step: -1\n",
      "step: -1\n",
      "step: -1\n",
      "step: -1\n",
      "step: 1\n",
      "step: 1\n",
      "step: -1\n",
      "step: 1\n",
      "step: -1\n",
      "step: -1\n",
      "step: 1\n",
      "step: -1\n",
      "step: -1\n",
      "step: -1\n",
      "step: 1\n",
      "step: 1\n",
      "step: -1\n",
      "step: 1\n",
      "step: 1\n",
      "step: 1\n",
      "step: 1\n",
      "step: 1\n",
      "step: -1\n",
      "step: -1\n",
      "step: 1\n",
      "step: -1\n",
      "step: 1\n",
      "step: -1\n",
      "step: 1\n",
      "step: 1\n",
      "step: -1\n",
      "step: -1\n",
      "step: 1\n",
      "step: -1\n",
      "step: -1\n",
      "step: 1\n",
      "step: -1\n",
      "step: 1\n",
      "step: 1\n",
      "step: 1\n",
      "step: -1\n",
      "step: -1\n",
      "step: -1\n",
      "step: 1\n",
      "step: 1\n",
      "step: 1\n",
      "step: 1\n",
      "step: 1\n",
      "step: -1\n",
      "step: -1\n",
      "step: -1\n",
      "step: 1\n",
      "step: -1\n"
     ]
    }
   ],
   "source": [
    "import random\n",
    "position = 0\n",
    "walk = [position]\n",
    "steps = 1000\n",
    "for i in range(steps):\n",
    "    step = 1 if random.randint(0,1) else -1\n",
    "    print('step:', step)\n",
    "    position += step\n",
    "    walk.append(position)"
   ]
  },
  {
   "cell_type": "code",
   "execution_count": 38,
   "id": "746c8c16",
   "metadata": {},
   "outputs": [
    {
     "data": {
      "text/plain": [
       "[<matplotlib.lines.Line2D at 0x1cba0deeef0>]"
      ]
     },
     "execution_count": 38,
     "metadata": {},
     "output_type": "execute_result"
    },
    {
     "data": {
      "image/png": "[encoded data removed]",
      "text/plain": [
       "<Figure size 432x288 with 1 Axes>"
      ]
     },
     "metadata": {
      "needs_background": "light"
     },
     "output_type": "display_data"
    }
   ],
   "source": [
    "plt.plot(walk[:100])"
   ]
  },
  {
   "cell_type": "code",
   "execution_count": 39,
   "id": "f8d7b1ba",
   "metadata": {},
   "outputs": [],
   "source": [
    "nsteps = 1000\n",
    "draws = np.random.randint(0,2,size=nsteps)\n",
    "steps = np.where(draws > 0, 1, -1)"
   ]
  },
  {
   "cell_type": "code",
   "execution_count": 40,
   "id": "53620267",
   "metadata": {},
   "outputs": [
    {
     "data": {
      "text/plain": [
       "array([0, 0, 1, 0, 1, 0, 0, 0, 1, 0, 0, 1, 0, 0, 1, 0, 0, 0, 0, 0, 1, 1,\n",
       "       0, 0, 0, 0, 0, 1, 1, 0, 1, 1, 0, 0, 1, 0, 1, 0, 0, 0, 1, 0, 1, 1,\n",
       "       0, 0, 1, 1, 0, 0, 1, 0, 0, 0, 0, 1, 1, 0, 0, 0, 0, 1, 1, 1, 1, 1,\n",
       "       0, 1, 1, 0, 0, 0, 0, 0, 1, 1, 0, 0, 1, 0, 1, 1, 1, 0, 1, 1, 0, 0,\n",
       "       1, 1, 0, 1, 1, 1, 0, 1, 0, 0, 1, 1, 0, 1, 0, 0, 0, 0, 0, 0, 1, 1,\n",
       "       1, 0, 1, 0, 0, 0, 1, 1, 1, 0, 1, 0, 0, 1, 1, 1, 1, 0, 1, 0, 1, 1,\n",
       "       1, 0, 0, 1, 0, 1, 1, 0, 1, 1, 0, 0, 1, 0, 1, 1, 0, 0, 0, 0, 1, 1,\n",
       "       0, 1, 0, 1, 1, 1, 0, 1, 0, 0, 1, 0, 0, 1, 0, 1, 1, 1, 1, 0, 0, 0,\n",
       "       1, 0, 1, 1, 0, 0, 1, 1, 0, 0, 1, 0, 1, 1, 0, 1, 1, 0, 0, 1, 0, 0,\n",
       "       0, 0, 1, 0, 0, 0, 0, 1, 1, 0, 1, 0, 0, 1, 0, 1, 0, 0, 0, 1, 0, 1,\n",
       "       1, 1, 1, 1, 0, 0, 0, 0, 0, 1, 1, 1, 1, 1, 1, 0, 0, 0, 1, 0, 0, 1,\n",
       "       0, 0, 1, 0, 1, 0, 1, 0, 0, 0, 1, 0, 1, 1, 1, 1, 0, 1, 1, 0, 0, 0,\n",
       "       0, 1, 1, 1, 0, 1, 1, 1, 0, 1, 1, 0, 1, 1, 0, 0, 0, 1, 1, 1, 0, 0,\n",
       "       1, 1, 0, 1, 1, 0, 1, 1, 1, 1, 1, 0, 1, 1, 1, 1, 0, 0, 1, 1, 0, 1,\n",
       "       0, 1, 1, 0, 0, 1, 1, 0, 0, 0, 0, 0, 1, 0, 1, 0, 1, 1, 0, 0, 1, 1,\n",
       "       0, 0, 0, 1, 1, 1, 1, 0, 0, 0, 0, 0, 0, 0, 0, 1, 1, 0, 1, 0, 1, 1,\n",
       "       1, 1, 0, 0, 0, 1, 0, 0, 1, 1, 1, 1, 0, 0, 0, 0, 1, 0, 1, 1, 1, 0,\n",
       "       1, 1, 1, 1, 1, 1, 1, 1, 0, 0, 1, 1, 0, 0, 1, 0, 0, 0, 0, 0, 0, 1,\n",
       "       0, 1, 0, 1, 1, 0, 0, 0, 0, 0, 1, 0, 1, 1, 1, 1, 0, 0, 1, 1, 1, 0,\n",
       "       0, 1, 1, 0, 0, 1, 1, 1, 0, 1, 0, 1, 1, 0, 1, 1, 1, 0, 0, 1, 0, 1,\n",
       "       1, 1, 0, 0, 1, 0, 0, 1, 0, 0, 1, 0, 0, 0, 0, 1, 1, 1, 1, 1, 1, 0,\n",
       "       1, 1, 1, 1, 0, 0, 1, 0, 1, 1, 0, 1, 0, 1, 0, 0, 0, 1, 0, 0, 0, 0,\n",
       "       1, 0, 0, 1, 1, 1, 0, 1, 0, 0, 1, 0, 0, 0, 0, 1, 0, 1, 1, 1, 1, 0,\n",
       "       1, 1, 1, 1, 1, 1, 1, 0, 1, 0, 1, 0, 0, 0, 0, 1, 1, 1, 0, 1, 0, 0,\n",
       "       0, 0, 1, 1, 1, 1, 1, 1, 0, 1, 1, 1, 1, 1, 0, 1, 0, 1, 0, 0, 1, 0,\n",
       "       0, 1, 0, 1, 0, 0, 0, 0, 1, 0, 1, 0, 1, 0, 0, 1, 1, 0, 1, 0, 0, 1,\n",
       "       1, 1, 1, 0, 0, 0, 1, 1, 0, 0, 1, 0, 0, 0, 1, 0, 0, 1, 1, 0, 1, 1,\n",
       "       0, 0, 0, 1, 0, 0, 1, 0, 0, 1, 1, 1, 0, 0, 0, 0, 0, 1, 0, 0, 1, 0,\n",
       "       1, 0, 0, 1, 1, 0, 1, 1, 1, 1, 1, 0, 0, 0, 1, 0, 0, 0, 0, 0, 1, 0,\n",
       "       0, 0, 1, 1, 0, 0, 1, 1, 1, 1, 1, 1, 1, 1, 1, 1, 0, 1, 0, 1, 1, 0,\n",
       "       0, 1, 1, 0, 1, 0, 1, 0, 1, 1, 0, 0, 1, 0, 1, 0, 1, 1, 0, 1, 0, 1,\n",
       "       0, 1, 1, 1, 0, 1, 1, 1, 0, 1, 0, 0, 1, 0, 0, 0, 0, 1, 0, 0, 1, 0,\n",
       "       1, 0, 1, 0, 0, 0, 0, 0, 0, 1, 1, 1, 1, 0, 1, 0, 1, 0, 1, 0, 0, 0,\n",
       "       0, 0, 0, 1, 0, 1, 0, 1, 1, 0, 0, 0, 0, 0, 0, 0, 1, 0, 0, 1, 0, 0,\n",
       "       1, 0, 1, 0, 1, 0, 1, 1, 1, 0, 1, 0, 1, 1, 1, 1, 1, 0, 1, 0, 0, 0,\n",
       "       1, 0, 0, 0, 0, 1, 1, 1, 1, 0, 0, 0, 1, 0, 1, 1, 0, 1, 1, 1, 0, 1,\n",
       "       1, 1, 1, 0, 1, 0, 0, 1, 1, 1, 1, 0, 0, 0, 1, 0, 0, 0, 1, 0, 1, 0,\n",
       "       0, 1, 1, 1, 1, 0, 1, 1, 0, 0, 1, 0, 0, 0, 0, 0, 0, 1, 0, 0, 1, 1,\n",
       "       1, 0, 0, 1, 1, 1, 1, 0, 0, 1, 0, 1, 1, 0, 1, 1, 1, 1, 1, 0, 0, 1,\n",
       "       0, 0, 0, 1, 1, 1, 1, 0, 0, 1, 1, 0, 1, 1, 1, 0, 1, 0, 1, 0, 1, 1,\n",
       "       1, 1, 1, 0, 0, 0, 1, 1, 1, 1, 1, 1, 1, 0, 1, 0, 0, 0, 1, 1, 1, 1,\n",
       "       1, 0, 0, 0, 0, 0, 0, 1, 0, 0, 1, 1, 0, 0, 0, 1, 1, 1, 1, 1, 1, 0,\n",
       "       1, 1, 1, 1, 0, 0, 1, 0, 1, 0, 1, 1, 0, 0, 1, 0, 0, 1, 0, 1, 1, 1,\n",
       "       0, 1, 0, 0, 0, 0, 0, 0, 1, 1, 1, 0, 1, 0, 1, 1, 0, 0, 1, 1, 0, 0,\n",
       "       1, 0, 0, 0, 1, 1, 1, 0, 0, 0, 1, 1, 0, 1, 1, 1, 1, 1, 1, 1, 1, 0,\n",
       "       1, 0, 0, 1, 0, 0, 1, 1, 1, 1])"
      ]
     },
     "execution_count": 40,
     "metadata": {},
     "output_type": "execute_result"
    }
   ],
   "source": [
    "draws"
   ]
  },
  {
   "cell_type": "code",
   "execution_count": 41,
   "id": "7bfef947",
   "metadata": {},
   "outputs": [
    {
     "data": {
      "text/plain": [
       "1000"
      ]
     },
     "execution_count": 41,
     "metadata": {},
     "output_type": "execute_result"
    }
   ],
   "source": [
    "len(draws)"
   ]
  },
  {
   "cell_type": "code",
   "execution_count": 42,
   "id": "07d1ecb1",
   "metadata": {},
   "outputs": [
    {
     "data": {
      "text/plain": [
       "[0,\n",
       " -1,\n",
       " -2,\n",
       " -3,\n",
       " -2,\n",
       " -3,\n",
       " -4,\n",
       " -5,\n",
       " -4,\n",
       " -3,\n",
       " -2,\n",
       " -3,\n",
       " -2,\n",
       " -1,\n",
       " -2,\n",
       " -1,\n",
       " 0,\n",
       " 1,\n",
       " 2,\n",
       " 3,\n",
       " 4,\n",
       " 3,\n",
       " 4,\n",
       " 5,\n",
       " 4,\n",
       " 5,\n",
       " 6,\n",
       " 7,\n",
       " 6,\n",
       " 5,\n",
       " 6,\n",
       " 5,\n",
       " 4,\n",
       " 5,\n",
       " 4,\n",
       " 3,\n",
       " 2,\n",
       " 3,\n",
       " 4,\n",
       " 3,\n",
       " 4,\n",
       " 5,\n",
       " 6,\n",
       " 7,\n",
       " 8,\n",
       " 7,\n",
       " 6,\n",
       " 5,\n",
       " 6,\n",
       " 5,\n",
       " 6,\n",
       " 7,\n",
       " 6,\n",
       " 7,\n",
       " 8,\n",
       " 9,\n",
       " 8,\n",
       " 7,\n",
       " 8,\n",
       " 7,\n",
       " 8,\n",
       " 7,\n",
       " 8,\n",
       " 9,\n",
       " 10,\n",
       " 9,\n",
       " 8,\n",
       " 9,\n",
       " 8,\n",
       " 7,\n",
       " 6,\n",
       " 5,\n",
       " 6,\n",
       " 5,\n",
       " 6,\n",
       " 5,\n",
       " 6,\n",
       " 5,\n",
       " 4,\n",
       " 3,\n",
       " 4,\n",
       " 5,\n",
       " 6,\n",
       " 5,\n",
       " 4,\n",
       " 5,\n",
       " 4,\n",
       " 3,\n",
       " 4,\n",
       " 3,\n",
       " 4,\n",
       " 3,\n",
       " 2,\n",
       " 3,\n",
       " 2,\n",
       " 3,\n",
       " 4,\n",
       " 3,\n",
       " 4,\n",
       " 3,\n",
       " 4,\n",
       " 3,\n",
       " 4,\n",
       " 5,\n",
       " 4,\n",
       " 3,\n",
       " 2,\n",
       " 1,\n",
       " 0,\n",
       " 1,\n",
       " 0,\n",
       " 1,\n",
       " 2,\n",
       " 1,\n",
       " 2,\n",
       " 1,\n",
       " 2,\n",
       " 3,\n",
       " 2,\n",
       " 3,\n",
       " 4,\n",
       " 3,\n",
       " 4,\n",
       " 5,\n",
       " 4,\n",
       " 3,\n",
       " 4,\n",
       " 3,\n",
       " 2,\n",
       " 1,\n",
       " 0,\n",
       " 1,\n",
       " 0,\n",
       " -1,\n",
       " -2,\n",
       " -3,\n",
       " -4,\n",
       " -5,\n",
       " -4,\n",
       " -3,\n",
       " -2,\n",
       " -3,\n",
       " -4,\n",
       " -3,\n",
       " -4,\n",
       " -3,\n",
       " -4,\n",
       " -5,\n",
       " -4,\n",
       " -3,\n",
       " -2,\n",
       " -1,\n",
       " -2,\n",
       " -3,\n",
       " -2,\n",
       " -3,\n",
       " -4,\n",
       " -5,\n",
       " -6,\n",
       " -7,\n",
       " -6,\n",
       " -7,\n",
       " -8,\n",
       " -7,\n",
       " -8,\n",
       " -9,\n",
       " -8,\n",
       " -9,\n",
       " -8,\n",
       " -7,\n",
       " -6,\n",
       " -7,\n",
       " -6,\n",
       " -7,\n",
       " -6,\n",
       " -5,\n",
       " -4,\n",
       " -5,\n",
       " -6,\n",
       " -5,\n",
       " -4,\n",
       " -5,\n",
       " -4,\n",
       " -5,\n",
       " -6,\n",
       " -5,\n",
       " -4,\n",
       " -3,\n",
       " -2,\n",
       " -1,\n",
       " 0,\n",
       " -1,\n",
       " -2,\n",
       " -1,\n",
       " -2,\n",
       " -3,\n",
       " -4,\n",
       " -5,\n",
       " -4,\n",
       " -5,\n",
       " -4,\n",
       " -3,\n",
       " -4,\n",
       " -5,\n",
       " -6,\n",
       " -5,\n",
       " -6,\n",
       " -5,\n",
       " -6,\n",
       " -7,\n",
       " -8,\n",
       " -9,\n",
       " -8,\n",
       " -9,\n",
       " -8,\n",
       " -9,\n",
       " -8,\n",
       " -9,\n",
       " -8,\n",
       " -7,\n",
       " -8,\n",
       " -9,\n",
       " -10,\n",
       " -11,\n",
       " -10,\n",
       " -9,\n",
       " -8,\n",
       " -9,\n",
       " -8,\n",
       " -7,\n",
       " -6,\n",
       " -7,\n",
       " -8,\n",
       " -9,\n",
       " -10,\n",
       " -11,\n",
       " -10,\n",
       " -11,\n",
       " -12,\n",
       " -11,\n",
       " -10,\n",
       " -9,\n",
       " -10,\n",
       " -9,\n",
       " -8,\n",
       " -7,\n",
       " -6,\n",
       " -7,\n",
       " -6,\n",
       " -5,\n",
       " -6,\n",
       " -7,\n",
       " -6,\n",
       " -5,\n",
       " -6,\n",
       " -5,\n",
       " -4,\n",
       " -5,\n",
       " -4,\n",
       " -3,\n",
       " -4,\n",
       " -3,\n",
       " -4,\n",
       " -3,\n",
       " -4,\n",
       " -3,\n",
       " -2,\n",
       " -3,\n",
       " -2,\n",
       " -1,\n",
       " 0,\n",
       " -1,\n",
       " -2,\n",
       " -1,\n",
       " 0,\n",
       " 1,\n",
       " 0,\n",
       " 1,\n",
       " 0,\n",
       " 1,\n",
       " 2,\n",
       " 3,\n",
       " 4,\n",
       " 3,\n",
       " 2,\n",
       " 1,\n",
       " 2,\n",
       " 3,\n",
       " 2,\n",
       " 3,\n",
       " 2,\n",
       " 1,\n",
       " 0,\n",
       " 1,\n",
       " 0,\n",
       " 1,\n",
       " 2,\n",
       " 1,\n",
       " 2,\n",
       " 1,\n",
       " 0,\n",
       " 1,\n",
       " 2,\n",
       " 1,\n",
       " 0,\n",
       " 1,\n",
       " 2,\n",
       " 3,\n",
       " 2,\n",
       " 3,\n",
       " 2,\n",
       " 1,\n",
       " 2,\n",
       " 1,\n",
       " 0,\n",
       " -1,\n",
       " 0,\n",
       " 1,\n",
       " 0,\n",
       " -1,\n",
       " -2,\n",
       " -3,\n",
       " -2,\n",
       " -3,\n",
       " -4,\n",
       " -3,\n",
       " -2,\n",
       " -3,\n",
       " -2,\n",
       " -1,\n",
       " -2,\n",
       " -3,\n",
       " -4,\n",
       " -5,\n",
       " -4,\n",
       " -5,\n",
       " -6,\n",
       " -5,\n",
       " -6,\n",
       " -7,\n",
       " -8,\n",
       " -7,\n",
       " -8,\n",
       " -9,\n",
       " -8,\n",
       " -7,\n",
       " -8,\n",
       " -7,\n",
       " -6,\n",
       " -5,\n",
       " -6,\n",
       " -7,\n",
       " -8,\n",
       " -7,\n",
       " -6,\n",
       " -7,\n",
       " -6,\n",
       " -5,\n",
       " -4,\n",
       " -3,\n",
       " -4,\n",
       " -3,\n",
       " -2,\n",
       " -1,\n",
       " -2,\n",
       " -3,\n",
       " -2,\n",
       " -3,\n",
       " -2,\n",
       " -3,\n",
       " -4,\n",
       " -5,\n",
       " -4,\n",
       " -5,\n",
       " -6,\n",
       " -7,\n",
       " -6,\n",
       " -5,\n",
       " -4,\n",
       " -5,\n",
       " -4,\n",
       " -5,\n",
       " -4,\n",
       " -3,\n",
       " -4,\n",
       " -3,\n",
       " -2,\n",
       " -3,\n",
       " -2,\n",
       " -3,\n",
       " -4,\n",
       " -5,\n",
       " -4,\n",
       " -5,\n",
       " -6,\n",
       " -5,\n",
       " -6,\n",
       " -5,\n",
       " -6,\n",
       " -5,\n",
       " -6,\n",
       " -7,\n",
       " -8,\n",
       " -9,\n",
       " -10,\n",
       " -11,\n",
       " -10,\n",
       " -9,\n",
       " -10,\n",
       " -11,\n",
       " -12,\n",
       " -11,\n",
       " -12,\n",
       " -11,\n",
       " -10,\n",
       " -9,\n",
       " -8,\n",
       " -9,\n",
       " -10,\n",
       " -9,\n",
       " -8,\n",
       " -9,\n",
       " -8,\n",
       " -9,\n",
       " -8,\n",
       " -9,\n",
       " -10,\n",
       " -11,\n",
       " -10,\n",
       " -9,\n",
       " -10,\n",
       " -9,\n",
       " -8,\n",
       " -9,\n",
       " -8,\n",
       " -9,\n",
       " -10,\n",
       " -11,\n",
       " -10,\n",
       " -9,\n",
       " -8,\n",
       " -9,\n",
       " -8,\n",
       " -9,\n",
       " -10,\n",
       " -9,\n",
       " -10,\n",
       " -9,\n",
       " -8,\n",
       " -9,\n",
       " -8,\n",
       " -9,\n",
       " -10,\n",
       " -9,\n",
       " -10,\n",
       " -11,\n",
       " -10,\n",
       " -11,\n",
       " -12,\n",
       " -11,\n",
       " -10,\n",
       " -9,\n",
       " -8,\n",
       " -7,\n",
       " -6,\n",
       " -5,\n",
       " -6,\n",
       " -5,\n",
       " -6,\n",
       " -7,\n",
       " -6,\n",
       " -5,\n",
       " -6,\n",
       " -7,\n",
       " -8,\n",
       " -7,\n",
       " -6,\n",
       " -5,\n",
       " -6,\n",
       " -7,\n",
       " -6,\n",
       " -7,\n",
       " -6,\n",
       " -5,\n",
       " -4,\n",
       " -3,\n",
       " -4,\n",
       " -3,\n",
       " -2,\n",
       " -1,\n",
       " 0,\n",
       " 1,\n",
       " 0,\n",
       " -1,\n",
       " 0,\n",
       " 1,\n",
       " 0,\n",
       " 1,\n",
       " 0,\n",
       " 1,\n",
       " 2,\n",
       " 3,\n",
       " 2,\n",
       " 1,\n",
       " 2,\n",
       " 1,\n",
       " 0,\n",
       " 1,\n",
       " 0,\n",
       " 1,\n",
       " 0,\n",
       " -1,\n",
       " -2,\n",
       " -3,\n",
       " -4,\n",
       " -5,\n",
       " -6,\n",
       " -7,\n",
       " -8,\n",
       " -9,\n",
       " -10,\n",
       " -11,\n",
       " -12,\n",
       " -13,\n",
       " -14,\n",
       " -15,\n",
       " -14,\n",
       " -13,\n",
       " -12,\n",
       " -13,\n",
       " -12,\n",
       " -13,\n",
       " -14,\n",
       " -15,\n",
       " -14,\n",
       " -15,\n",
       " -14,\n",
       " -13,\n",
       " -12,\n",
       " -13,\n",
       " -12,\n",
       " -11,\n",
       " -12,\n",
       " -11,\n",
       " -12,\n",
       " -11,\n",
       " -10,\n",
       " -9,\n",
       " -8,\n",
       " -9,\n",
       " -8,\n",
       " -7,\n",
       " -6,\n",
       " -7,\n",
       " -6,\n",
       " -7,\n",
       " -8,\n",
       " -7,\n",
       " -6,\n",
       " -5,\n",
       " -6,\n",
       " -5,\n",
       " -4,\n",
       " -5,\n",
       " -4,\n",
       " -5,\n",
       " -4,\n",
       " -3,\n",
       " -4,\n",
       " -3,\n",
       " -2,\n",
       " -3,\n",
       " -4,\n",
       " -3,\n",
       " -2,\n",
       " -3,\n",
       " -2,\n",
       " -3,\n",
       " -4,\n",
       " -5,\n",
       " -4,\n",
       " -3,\n",
       " -2,\n",
       " -1,\n",
       " 0,\n",
       " 1,\n",
       " 2,\n",
       " 3,\n",
       " 2,\n",
       " 3,\n",
       " 4,\n",
       " 5,\n",
       " 4,\n",
       " 3,\n",
       " 2,\n",
       " 3,\n",
       " 2,\n",
       " 3,\n",
       " 4,\n",
       " 5,\n",
       " 6,\n",
       " 7,\n",
       " 8,\n",
       " 9,\n",
       " 8,\n",
       " 9,\n",
       " 8,\n",
       " 9,\n",
       " 8,\n",
       " 7,\n",
       " 6,\n",
       " 7,\n",
       " 8,\n",
       " 9,\n",
       " 8,\n",
       " 9,\n",
       " 10,\n",
       " 9,\n",
       " 8,\n",
       " 9,\n",
       " 10,\n",
       " 11,\n",
       " 10,\n",
       " 9,\n",
       " 10,\n",
       " 11,\n",
       " 12,\n",
       " 11,\n",
       " 10,\n",
       " 9,\n",
       " 10,\n",
       " 9,\n",
       " 10,\n",
       " 11,\n",
       " 10,\n",
       " 11,\n",
       " 12,\n",
       " 11,\n",
       " 10,\n",
       " 11,\n",
       " 10,\n",
       " 11,\n",
       " 10,\n",
       " 11,\n",
       " 12,\n",
       " 11,\n",
       " 12,\n",
       " 11,\n",
       " 10,\n",
       " 11,\n",
       " 12,\n",
       " 13,\n",
       " 12,\n",
       " 11,\n",
       " 10,\n",
       " 9,\n",
       " 8,\n",
       " 9,\n",
       " 8,\n",
       " 7,\n",
       " 8,\n",
       " 7,\n",
       " 8,\n",
       " 9,\n",
       " 8,\n",
       " 7,\n",
       " 6,\n",
       " 7,\n",
       " 6,\n",
       " 5,\n",
       " 6,\n",
       " 5,\n",
       " 4,\n",
       " 3,\n",
       " 4,\n",
       " 5,\n",
       " 6,\n",
       " 7,\n",
       " 8,\n",
       " 7,\n",
       " 6,\n",
       " 7,\n",
       " 6,\n",
       " 5,\n",
       " 4,\n",
       " 3,\n",
       " 4,\n",
       " 3,\n",
       " 4,\n",
       " 3,\n",
       " 4,\n",
       " 3,\n",
       " 4,\n",
       " 3,\n",
       " 4,\n",
       " 3,\n",
       " 4,\n",
       " 3,\n",
       " 2,\n",
       " 3,\n",
       " 2,\n",
       " 3,\n",
       " 2,\n",
       " 3,\n",
       " 4,\n",
       " 3,\n",
       " 2,\n",
       " 3,\n",
       " 4,\n",
       " 5,\n",
       " 6,\n",
       " 7,\n",
       " 6,\n",
       " 7,\n",
       " 8,\n",
       " 7,\n",
       " 6,\n",
       " 7,\n",
       " 8,\n",
       " 9,\n",
       " 10,\n",
       " 11,\n",
       " 10,\n",
       " 11,\n",
       " 10,\n",
       " 11,\n",
       " 10,\n",
       " 9,\n",
       " 8,\n",
       " 7,\n",
       " 8,\n",
       " 9,\n",
       " 10,\n",
       " 11,\n",
       " 12,\n",
       " 11,\n",
       " 10,\n",
       " 11,\n",
       " 12,\n",
       " 11,\n",
       " 12,\n",
       " 13,\n",
       " 12,\n",
       " 11,\n",
       " 10,\n",
       " 11,\n",
       " 10,\n",
       " 9,\n",
       " 8,\n",
       " 7,\n",
       " 8,\n",
       " 7,\n",
       " 6,\n",
       " 5,\n",
       " 6,\n",
       " 7,\n",
       " 8,\n",
       " 7,\n",
       " 8,\n",
       " 7,\n",
       " 6,\n",
       " 7,\n",
       " 6,\n",
       " 7,\n",
       " 8,\n",
       " 7,\n",
       " 8,\n",
       " 9,\n",
       " 8,\n",
       " 9,\n",
       " 10,\n",
       " 11,\n",
       " 10,\n",
       " 11,\n",
       " 10,\n",
       " 9,\n",
       " 8,\n",
       " 7,\n",
       " 6,\n",
       " 7,\n",
       " 6,\n",
       " 5,\n",
       " 4,\n",
       " 3,\n",
       " 2,\n",
       " 1,\n",
       " 0,\n",
       " 1,\n",
       " 2,\n",
       " 1,\n",
       " 2,\n",
       " 1,\n",
       " 0,\n",
       " 1,\n",
       " 0,\n",
       " -1,\n",
       " -2,\n",
       " -3,\n",
       " -4,\n",
       " -3,\n",
       " -4,\n",
       " -3,\n",
       " -2,\n",
       " -1,\n",
       " 0,\n",
       " -1,\n",
       " 0,\n",
       " 1,\n",
       " 2,\n",
       " 3,\n",
       " 2,\n",
       " 3,\n",
       " 2,\n",
       " 3,\n",
       " 4,\n",
       " 3,\n",
       " 4,\n",
       " 3,\n",
       " 2,\n",
       " 1,\n",
       " 2,\n",
       " 1,\n",
       " 2,\n",
       " 1,\n",
       " 2,\n",
       " 3,\n",
       " 2,\n",
       " 3,\n",
       " 2,\n",
       " 3,\n",
       " 4,\n",
       " 3,\n",
       " 4,\n",
       " 3,\n",
       " 4,\n",
       " 5,\n",
       " 6,\n",
       " 7,\n",
       " 6,\n",
       " 5,\n",
       " 6,\n",
       " 5,\n",
       " 6,\n",
       " 5,\n",
       " 6,\n",
       " 7,\n",
       " 6,\n",
       " 5,\n",
       " 6,\n",
       " 5,\n",
       " 6,\n",
       " 7,\n",
       " 8,\n",
       " 7,\n",
       " 8,\n",
       " 9,\n",
       " 10,\n",
       " 11,\n",
       " 12,\n",
       " 11,\n",
       " 10,\n",
       " 9,\n",
       " 8,\n",
       " 9,\n",
       " 10,\n",
       " 9,\n",
       " 8,\n",
       " 9,\n",
       " 8,\n",
       " 9,\n",
       " 8,\n",
       " 7,\n",
       " 8,\n",
       " 7,\n",
       " 6,\n",
       " 7,\n",
       " 6,\n",
       " 5,\n",
       " 6,\n",
       " 7,\n",
       " 8,\n",
       " 9,\n",
       " 8,\n",
       " 7,\n",
       " 8,\n",
       " 9,\n",
       " 10,\n",
       " 9,\n",
       " 8,\n",
       " 7,\n",
       " 8,\n",
       " 9,\n",
       " 10,\n",
       " 9,\n",
       " 10,\n",
       " 9,\n",
       " 8,\n",
       " 9,\n",
       " 8,\n",
       " 7,\n",
       " 6,\n",
       " 7,\n",
       " 8,\n",
       " 9,\n",
       " 10,\n",
       " 9,\n",
       " 8,\n",
       " 9,\n",
       " 10,\n",
       " 9,\n",
       " 10,\n",
       " 9,\n",
       " 8,\n",
       " 9,\n",
       " 10,\n",
       " 11,\n",
       " 12,\n",
       " 13,\n",
       " 12,\n",
       " 13,\n",
       " 12,\n",
       " 11,\n",
       " 12,\n",
       " 11,\n",
       " 10,\n",
       " 9,\n",
       " 8,\n",
       " 7,\n",
       " 6,\n",
       " 7,\n",
       " 6,\n",
       " 7,\n",
       " 6,\n",
       " 5,\n",
       " 4,\n",
       " 5,\n",
       " 4,\n",
       " 5,\n",
       " 4,\n",
       " 5,\n",
       " 4,\n",
       " 3,\n",
       " 2,\n",
       " 3,\n",
       " 4,\n",
       " 5,\n",
       " 6,\n",
       " 5,\n",
       " 4,\n",
       " 3,\n",
       " 2,\n",
       " 1,\n",
       " 2,\n",
       " 3,\n",
       " 2,\n",
       " 3,\n",
       " 2,\n",
       " 1,\n",
       " 2,\n",
       " 1,\n",
       " 0,\n",
       " -1,\n",
       " 0,\n",
       " 1,\n",
       " 0,\n",
       " 1,\n",
       " 2,\n",
       " 3,\n",
       " 4,\n",
       " 5,\n",
       " 4,\n",
       " 3,\n",
       " 4,\n",
       " 3,\n",
       " 4,\n",
       " 3,\n",
       " 4,\n",
       " 5,\n",
       " 4,\n",
       " 3,\n",
       " 4,\n",
       " 3,\n",
       " 2,\n",
       " 3,\n",
       " 2,\n",
       " 3,\n",
       " 4,\n",
       " 5,\n",
       " 4,\n",
       " 3,\n",
       " 2,\n",
       " 3,\n",
       " 4,\n",
       " 5,\n",
       " 6,\n",
       " 7,\n",
       " 6,\n",
       " 5,\n",
       " 4,\n",
       " 5,\n",
       " ...]"
      ]
     },
     "execution_count": 42,
     "metadata": {},
     "output_type": "execute_result"
    }
   ],
   "source": [
    "walk"
   ]
  },
  {
   "cell_type": "code",
   "execution_count": 43,
   "id": "2c5cf506",
   "metadata": {},
   "outputs": [
    {
     "data": {
      "text/plain": [
       "0"
      ]
     },
     "execution_count": 43,
     "metadata": {},
     "output_type": "execute_result"
    }
   ],
   "source": [
    "np.random.randint(0,1)"
   ]
  },
  {
   "cell_type": "code",
   "execution_count": 44,
   "id": "c7fde484",
   "metadata": {},
   "outputs": [
    {
     "data": {
      "text/plain": [
       "7"
      ]
     },
     "execution_count": 44,
     "metadata": {},
     "output_type": "execute_result"
    }
   ],
   "source": [
    "random.randint(3,12)"
   ]
  },
  {
   "cell_type": "code",
   "execution_count": 45,
   "id": "ad1b1343",
   "metadata": {},
   "outputs": [
    {
     "data": {
      "text/plain": [
       "array([0, 0, 1, 0, 1, 0, 0, 0, 1, 0, 0, 1, 0, 0, 1, 0, 0, 0, 0, 0, 1, 1,\n",
       "       0, 0, 0, 0, 0, 1, 1, 0, 1, 1, 0, 0, 1, 0, 1, 0, 0, 0, 1, 0, 1, 1,\n",
       "       0, 0, 1, 1, 0, 0, 1, 0, 0, 0, 0, 1, 1, 0, 0, 0, 0, 1, 1, 1, 1, 1,\n",
       "       0, 1, 1, 0, 0, 0, 0, 0, 1, 1, 0, 0, 1, 0, 1, 1, 1, 0, 1, 1, 0, 0,\n",
       "       1, 1, 0, 1, 1, 1, 0, 1, 0, 0, 1, 1, 0, 1, 0, 0, 0, 0, 0, 0, 1, 1,\n",
       "       1, 0, 1, 0, 0, 0, 1, 1, 1, 0, 1, 0, 0, 1, 1, 1, 1, 0, 1, 0, 1, 1,\n",
       "       1, 0, 0, 1, 0, 1, 1, 0, 1, 1, 0, 0, 1, 0, 1, 1, 0, 0, 0, 0, 1, 1,\n",
       "       0, 1, 0, 1, 1, 1, 0, 1, 0, 0, 1, 0, 0, 1, 0, 1, 1, 1, 1, 0, 0, 0,\n",
       "       1, 0, 1, 1, 0, 0, 1, 1, 0, 0, 1, 0, 1, 1, 0, 1, 1, 0, 0, 1, 0, 0,\n",
       "       0, 0, 1, 0, 0, 0, 0, 1, 1, 0, 1, 0, 0, 1, 0, 1, 0, 0, 0, 1, 0, 1,\n",
       "       1, 1, 1, 1, 0, 0, 0, 0, 0, 1, 1, 1, 1, 1, 1, 0, 0, 0, 1, 0, 0, 1,\n",
       "       0, 0, 1, 0, 1, 0, 1, 0, 0, 0, 1, 0, 1, 1, 1, 1, 0, 1, 1, 0, 0, 0,\n",
       "       0, 1, 1, 1, 0, 1, 1, 1, 0, 1, 1, 0, 1, 1, 0, 0, 0, 1, 1, 1, 0, 0,\n",
       "       1, 1, 0, 1, 1, 0, 1, 1, 1, 1, 1, 0, 1, 1, 1, 1, 0, 0, 1, 1, 0, 1,\n",
       "       0, 1, 1, 0, 0, 1, 1, 0, 0, 0, 0, 0, 1, 0, 1, 0, 1, 1, 0, 0, 1, 1,\n",
       "       0, 0, 0, 1, 1, 1, 1, 0, 0, 0, 0, 0, 0, 0, 0, 1, 1, 0, 1, 0, 1, 1,\n",
       "       1, 1, 0, 0, 0, 1, 0, 0, 1, 1, 1, 1, 0, 0, 0, 0, 1, 0, 1, 1, 1, 0,\n",
       "       1, 1, 1, 1, 1, 1, 1, 1, 0, 0, 1, 1, 0, 0, 1, 0, 0, 0, 0, 0, 0, 1,\n",
       "       0, 1, 0, 1, 1, 0, 0, 0, 0, 0, 1, 0, 1, 1, 1, 1, 0, 0, 1, 1, 1, 0,\n",
       "       0, 1, 1, 0, 0, 1, 1, 1, 0, 1, 0, 1, 1, 0, 1, 1, 1, 0, 0, 1, 0, 1,\n",
       "       1, 1, 0, 0, 1, 0, 0, 1, 0, 0, 1, 0, 0, 0, 0, 1, 1, 1, 1, 1, 1, 0,\n",
       "       1, 1, 1, 1, 0, 0, 1, 0, 1, 1, 0, 1, 0, 1, 0, 0, 0, 1, 0, 0, 0, 0,\n",
       "       1, 0, 0, 1, 1, 1, 0, 1, 0, 0, 1, 0, 0, 0, 0, 1, 0, 1, 1, 1, 1, 0,\n",
       "       1, 1, 1, 1, 1, 1, 1, 0, 1, 0, 1, 0, 0, 0, 0, 1, 1, 1, 0, 1, 0, 0,\n",
       "       0, 0, 1, 1, 1, 1, 1, 1, 0, 1, 1, 1, 1, 1, 0, 1, 0, 1, 0, 0, 1, 0,\n",
       "       0, 1, 0, 1, 0, 0, 0, 0, 1, 0, 1, 0, 1, 0, 0, 1, 1, 0, 1, 0, 0, 1,\n",
       "       1, 1, 1, 0, 0, 0, 1, 1, 0, 0, 1, 0, 0, 0, 1, 0, 0, 1, 1, 0, 1, 1,\n",
       "       0, 0, 0, 1, 0, 0, 1, 0, 0, 1, 1, 1, 0, 0, 0, 0, 0, 1, 0, 0, 1, 0,\n",
       "       1, 0, 0, 1, 1, 0, 1, 1, 1, 1, 1, 0, 0, 0, 1, 0, 0, 0, 0, 0, 1, 0,\n",
       "       0, 0, 1, 1, 0, 0, 1, 1, 1, 1, 1, 1, 1, 1, 1, 1, 0, 1, 0, 1, 1, 0,\n",
       "       0, 1, 1, 0, 1, 0, 1, 0, 1, 1, 0, 0, 1, 0, 1, 0, 1, 1, 0, 1, 0, 1,\n",
       "       0, 1, 1, 1, 0, 1, 1, 1, 0, 1, 0, 0, 1, 0, 0, 0, 0, 1, 0, 0, 1, 0,\n",
       "       1, 0, 1, 0, 0, 0, 0, 0, 0, 1, 1, 1, 1, 0, 1, 0, 1, 0, 1, 0, 0, 0,\n",
       "       0, 0, 0, 1, 0, 1, 0, 1, 1, 0, 0, 0, 0, 0, 0, 0, 1, 0, 0, 1, 0, 0,\n",
       "       1, 0, 1, 0, 1, 0, 1, 1, 1, 0, 1, 0, 1, 1, 1, 1, 1, 0, 1, 0, 0, 0,\n",
       "       1, 0, 0, 0, 0, 1, 1, 1, 1, 0, 0, 0, 1, 0, 1, 1, 0, 1, 1, 1, 0, 1,\n",
       "       1, 1, 1, 0, 1, 0, 0, 1, 1, 1, 1, 0, 0, 0, 1, 0, 0, 0, 1, 0, 1, 0,\n",
       "       0, 1, 1, 1, 1, 0, 1, 1, 0, 0, 1, 0, 0, 0, 0, 0, 0, 1, 0, 0, 1, 1,\n",
       "       1, 0, 0, 1, 1, 1, 1, 0, 0, 1, 0, 1, 1, 0, 1, 1, 1, 1, 1, 0, 0, 1,\n",
       "       0, 0, 0, 1, 1, 1, 1, 0, 0, 1, 1, 0, 1, 1, 1, 0, 1, 0, 1, 0, 1, 1,\n",
       "       1, 1, 1, 0, 0, 0, 1, 1, 1, 1, 1, 1, 1, 0, 1, 0, 0, 0, 1, 1, 1, 1,\n",
       "       1, 0, 0, 0, 0, 0, 0, 1, 0, 0, 1, 1, 0, 0, 0, 1, 1, 1, 1, 1, 1, 0,\n",
       "       1, 1, 1, 1, 0, 0, 1, 0, 1, 0, 1, 1, 0, 0, 1, 0, 0, 1, 0, 1, 1, 1,\n",
       "       0, 1, 0, 0, 0, 0, 0, 0, 1, 1, 1, 0, 1, 0, 1, 1, 0, 0, 1, 1, 0, 0,\n",
       "       1, 0, 0, 0, 1, 1, 1, 0, 0, 0, 1, 1, 0, 1, 1, 1, 1, 1, 1, 1, 1, 0,\n",
       "       1, 0, 0, 1, 0, 0, 1, 1, 1, 1])"
      ]
     },
     "execution_count": 45,
     "metadata": {},
     "output_type": "execute_result"
    }
   ],
   "source": [
    "draws"
   ]
  },
  {
   "cell_type": "code",
   "execution_count": 46,
   "id": "828e3d9c",
   "metadata": {},
   "outputs": [],
   "source": [
    "steps = np.where(draws > 0, 1, -1)"
   ]
  },
  {
   "cell_type": "code",
   "execution_count": 47,
   "id": "9d571ec1",
   "metadata": {},
   "outputs": [
    {
     "data": {
      "text/plain": [
       "array([-1, -1,  1, -1,  1, -1, -1, -1,  1, -1, -1,  1, -1, -1,  1, -1, -1,\n",
       "       -1, -1, -1,  1,  1, -1, -1, -1, -1, -1,  1,  1, -1,  1,  1, -1, -1,\n",
       "        1, -1,  1, -1, -1, -1,  1, -1,  1,  1, -1, -1,  1,  1, -1, -1,  1,\n",
       "       -1, -1, -1, -1,  1,  1, -1, -1, -1, -1,  1,  1,  1,  1,  1, -1,  1,\n",
       "        1, -1, -1, -1, -1, -1,  1,  1, -1, -1,  1, -1,  1,  1,  1, -1,  1,\n",
       "        1, -1, -1,  1,  1, -1,  1,  1,  1, -1,  1, -1, -1,  1,  1, -1,  1,\n",
       "       -1, -1, -1, -1, -1, -1,  1,  1,  1, -1,  1, -1, -1, -1,  1,  1,  1,\n",
       "       -1,  1, -1, -1,  1,  1,  1,  1, -1,  1, -1,  1,  1,  1, -1, -1,  1,\n",
       "       -1,  1,  1, -1,  1,  1, -1, -1,  1, -1,  1,  1, -1, -1, -1, -1,  1,\n",
       "        1, -1,  1, -1,  1,  1,  1, -1,  1, -1, -1,  1, -1, -1,  1, -1,  1,\n",
       "        1,  1,  1, -1, -1, -1,  1, -1,  1,  1, -1, -1,  1,  1, -1, -1,  1,\n",
       "       -1,  1,  1, -1,  1,  1, -1, -1,  1, -1, -1, -1, -1,  1, -1, -1, -1,\n",
       "       -1,  1,  1, -1,  1, -1, -1,  1, -1,  1, -1, -1, -1,  1, -1,  1,  1,\n",
       "        1,  1,  1, -1, -1, -1, -1, -1,  1,  1,  1,  1,  1,  1, -1, -1, -1,\n",
       "        1, -1, -1,  1, -1, -1,  1, -1,  1, -1,  1, -1, -1, -1,  1, -1,  1,\n",
       "        1,  1,  1, -1,  1,  1, -1, -1, -1, -1,  1,  1,  1, -1,  1,  1,  1,\n",
       "       -1,  1,  1, -1,  1,  1, -1, -1, -1,  1,  1,  1, -1, -1,  1,  1, -1,\n",
       "        1,  1, -1,  1,  1,  1,  1,  1, -1,  1,  1,  1,  1, -1, -1,  1,  1,\n",
       "       -1,  1, -1,  1,  1, -1, -1,  1,  1, -1, -1, -1, -1, -1,  1, -1,  1,\n",
       "       -1,  1,  1, -1, -1,  1,  1, -1, -1, -1,  1,  1,  1,  1, -1, -1, -1,\n",
       "       -1, -1, -1, -1, -1,  1,  1, -1,  1, -1,  1,  1,  1,  1, -1, -1, -1,\n",
       "        1, -1, -1,  1,  1,  1,  1, -1, -1, -1, -1,  1, -1,  1,  1,  1, -1,\n",
       "        1,  1,  1,  1,  1,  1,  1,  1, -1, -1,  1,  1, -1, -1,  1, -1, -1,\n",
       "       -1, -1, -1, -1,  1, -1,  1, -1,  1,  1, -1, -1, -1, -1, -1,  1, -1,\n",
       "        1,  1,  1,  1, -1, -1,  1,  1,  1, -1, -1,  1,  1, -1, -1,  1,  1,\n",
       "        1, -1,  1, -1,  1,  1, -1,  1,  1,  1, -1, -1,  1, -1,  1,  1,  1,\n",
       "       -1, -1,  1, -1, -1,  1, -1, -1,  1, -1, -1, -1, -1,  1,  1,  1,  1,\n",
       "        1,  1, -1,  1,  1,  1,  1, -1, -1,  1, -1,  1,  1, -1,  1, -1,  1,\n",
       "       -1, -1, -1,  1, -1, -1, -1, -1,  1, -1, -1,  1,  1,  1, -1,  1, -1,\n",
       "       -1,  1, -1, -1, -1, -1,  1, -1,  1,  1,  1,  1, -1,  1,  1,  1,  1,\n",
       "        1,  1,  1, -1,  1, -1,  1, -1, -1, -1, -1,  1,  1,  1, -1,  1, -1,\n",
       "       -1, -1, -1,  1,  1,  1,  1,  1,  1, -1,  1,  1,  1,  1,  1, -1,  1,\n",
       "       -1,  1, -1, -1,  1, -1, -1,  1, -1,  1, -1, -1, -1, -1,  1, -1,  1,\n",
       "       -1,  1, -1, -1,  1,  1, -1,  1, -1, -1,  1,  1,  1,  1, -1, -1, -1,\n",
       "        1,  1, -1, -1,  1, -1, -1, -1,  1, -1, -1,  1,  1, -1,  1,  1, -1,\n",
       "       -1, -1,  1, -1, -1,  1, -1, -1,  1,  1,  1, -1, -1, -1, -1, -1,  1,\n",
       "       -1, -1,  1, -1,  1, -1, -1,  1,  1, -1,  1,  1,  1,  1,  1, -1, -1,\n",
       "       -1,  1, -1, -1, -1, -1, -1,  1, -1, -1, -1,  1,  1, -1, -1,  1,  1,\n",
       "        1,  1,  1,  1,  1,  1,  1,  1, -1,  1, -1,  1,  1, -1, -1,  1,  1,\n",
       "       -1,  1, -1,  1, -1,  1,  1, -1, -1,  1, -1,  1, -1,  1,  1, -1,  1,\n",
       "       -1,  1, -1,  1,  1,  1, -1,  1,  1,  1, -1,  1, -1, -1,  1, -1, -1,\n",
       "       -1, -1,  1, -1, -1,  1, -1,  1, -1,  1, -1, -1, -1, -1, -1, -1,  1,\n",
       "        1,  1,  1, -1,  1, -1,  1, -1,  1, -1, -1, -1, -1, -1, -1,  1, -1,\n",
       "        1, -1,  1,  1, -1, -1, -1, -1, -1, -1, -1,  1, -1, -1,  1, -1, -1,\n",
       "        1, -1,  1, -1,  1, -1,  1,  1,  1, -1,  1, -1,  1,  1,  1,  1,  1,\n",
       "       -1,  1, -1, -1, -1,  1, -1, -1, -1, -1,  1,  1,  1,  1, -1, -1, -1,\n",
       "        1, -1,  1,  1, -1,  1,  1,  1, -1,  1,  1,  1,  1, -1,  1, -1, -1,\n",
       "        1,  1,  1,  1, -1, -1, -1,  1, -1, -1, -1,  1, -1,  1, -1, -1,  1,\n",
       "        1,  1,  1, -1,  1,  1, -1, -1,  1, -1, -1, -1, -1, -1, -1,  1, -1,\n",
       "       -1,  1,  1,  1, -1, -1,  1,  1,  1,  1, -1, -1,  1, -1,  1,  1, -1,\n",
       "        1,  1,  1,  1,  1, -1, -1,  1, -1, -1, -1,  1,  1,  1,  1, -1, -1,\n",
       "        1,  1, -1,  1,  1,  1, -1,  1, -1,  1, -1,  1,  1,  1,  1,  1, -1,\n",
       "       -1, -1,  1,  1,  1,  1,  1,  1,  1, -1,  1, -1, -1, -1,  1,  1,  1,\n",
       "        1,  1, -1, -1, -1, -1, -1, -1,  1, -1, -1,  1,  1, -1, -1, -1,  1,\n",
       "        1,  1,  1,  1,  1, -1,  1,  1,  1,  1, -1, -1,  1, -1,  1, -1,  1,\n",
       "        1, -1, -1,  1, -1, -1,  1, -1,  1,  1,  1, -1,  1, -1, -1, -1, -1,\n",
       "       -1, -1,  1,  1,  1, -1,  1, -1,  1,  1, -1, -1,  1,  1, -1, -1,  1,\n",
       "       -1, -1, -1,  1,  1,  1, -1, -1, -1,  1,  1, -1,  1,  1,  1,  1,  1,\n",
       "        1,  1,  1, -1,  1, -1, -1,  1, -1, -1,  1,  1,  1,  1])"
      ]
     },
     "execution_count": 47,
     "metadata": {},
     "output_type": "execute_result"
    }
   ],
   "source": [
    "steps"
   ]
  },
  {
   "cell_type": "code",
   "execution_count": 48,
   "id": "4c54be00",
   "metadata": {},
   "outputs": [],
   "source": [
    "walk = steps.cumsum()"
   ]
  },
  {
   "cell_type": "code",
   "execution_count": 49,
   "id": "d530663b",
   "metadata": {},
   "outputs": [
    {
     "data": {
      "text/plain": [
       "array([ -1,  -2,  -1,  -2,  -1,  -2,  -3,  -4,  -3,  -4,  -5,  -4,  -5,\n",
       "        -6,  -5,  -6,  -7,  -8,  -9, -10,  -9,  -8,  -9, -10, -11, -12,\n",
       "       -13, -12, -11, -12, -11, -10, -11, -12, -11, -12, -11, -12, -13,\n",
       "       -14, -13, -14, -13, -12, -13, -14, -13, -12, -13, -14, -13, -14,\n",
       "       -15, -16, -17, -16, -15, -16, -17, -18, -19, -18, -17, -16, -15,\n",
       "       -14, -15, -14, -13, -14, -15, -16, -17, -18, -17, -16, -17, -18,\n",
       "       -17, -18, -17, -16, -15, -16, -15, -14, -15, -16, -15, -14, -15,\n",
       "       -14, -13, -12, -13, -12, -13, -14, -13, -12, -13, -12, -13, -14,\n",
       "       -15, -16, -17, -18, -17, -16, -15, -16, -15, -16, -17, -18, -17,\n",
       "       -16, -15, -16, -15, -16, -17, -16, -15, -14, -13, -14, -13, -14,\n",
       "       -13, -12, -11, -12, -13, -12, -13, -12, -11, -12, -11, -10, -11,\n",
       "       -12, -11, -12, -11, -10, -11, -12, -13, -14, -13, -12, -13, -12,\n",
       "       -13, -12, -11, -10, -11, -10, -11, -12, -11, -12, -13, -12, -13,\n",
       "       -12, -11, -10,  -9, -10, -11, -12, -11, -12, -11, -10, -11, -12,\n",
       "       -11, -10, -11, -12, -11, -12, -11, -10, -11, -10,  -9, -10, -11,\n",
       "       -10, -11, -12, -13, -14, -13, -14, -15, -16, -17, -16, -15, -16,\n",
       "       -15, -16, -17, -16, -17, -16, -17, -18, -19, -18, -19, -18, -17,\n",
       "       -16, -15, -14, -15, -16, -17, -18, -19, -18, -17, -16, -15, -14,\n",
       "       -13, -14, -15, -16, -15, -16, -17, -16, -17, -18, -17, -18, -17,\n",
       "       -18, -17, -18, -19, -20, -19, -20, -19, -18, -17, -16, -17, -16,\n",
       "       -15, -16, -17, -18, -19, -18, -17, -16, -17, -16, -15, -14, -15,\n",
       "       -14, -13, -14, -13, -12, -13, -14, -15, -14, -13, -12, -13, -14,\n",
       "       -13, -12, -13, -12, -11, -12, -11, -10,  -9,  -8,  -7,  -8,  -7,\n",
       "        -6,  -5,  -4,  -5,  -6,  -5,  -4,  -5,  -4,  -5,  -4,  -3,  -4,\n",
       "        -5,  -4,  -3,  -4,  -5,  -6,  -7,  -8,  -7,  -8,  -7,  -8,  -7,\n",
       "        -6,  -7,  -8,  -7,  -6,  -7,  -8,  -9,  -8,  -7,  -6,  -5,  -6,\n",
       "        -7,  -8,  -9, -10, -11, -12, -13, -12, -11, -12, -11, -12, -11,\n",
       "       -10,  -9,  -8,  -9, -10, -11, -10, -11, -12, -11, -10,  -9,  -8,\n",
       "        -9, -10, -11, -12, -11, -12, -11, -10,  -9, -10,  -9,  -8,  -7,\n",
       "        -6,  -5,  -4,  -3,  -2,  -3,  -4,  -3,  -2,  -3,  -4,  -3,  -4,\n",
       "        -5,  -6,  -7,  -8,  -9,  -8,  -9,  -8,  -9,  -8,  -7,  -8,  -9,\n",
       "       -10, -11, -12, -11, -12, -11, -10,  -9,  -8,  -9, -10,  -9,  -8,\n",
       "        -7,  -8,  -9,  -8,  -7,  -8,  -9,  -8,  -7,  -6,  -7,  -6,  -7,\n",
       "        -6,  -5,  -6,  -5,  -4,  -3,  -4,  -5,  -4,  -5,  -4,  -3,  -2,\n",
       "        -3,  -4,  -3,  -4,  -5,  -4,  -5,  -6,  -5,  -6,  -7,  -8,  -9,\n",
       "        -8,  -7,  -6,  -5,  -4,  -3,  -4,  -3,  -2,  -1,   0,  -1,  -2,\n",
       "        -1,  -2,  -1,   0,  -1,   0,  -1,   0,  -1,  -2,  -3,  -2,  -3,\n",
       "        -4,  -5,  -6,  -5,  -6,  -7,  -6,  -5,  -4,  -5,  -4,  -5,  -6,\n",
       "        -5,  -6,  -7,  -8,  -9,  -8,  -9,  -8,  -7,  -6,  -5,  -6,  -5,\n",
       "        -4,  -3,  -2,  -1,   0,   1,   0,   1,   0,   1,   0,  -1,  -2,\n",
       "        -3,  -2,  -1,   0,  -1,   0,  -1,  -2,  -3,  -4,  -3,  -2,  -1,\n",
       "         0,   1,   2,   1,   2,   3,   4,   5,   6,   5,   6,   5,   6,\n",
       "         5,   4,   5,   4,   3,   4,   3,   4,   3,   2,   1,   0,   1,\n",
       "         0,   1,   0,   1,   0,  -1,   0,   1,   0,   1,   0,  -1,   0,\n",
       "         1,   2,   3,   2,   1,   0,   1,   2,   1,   0,   1,   0,  -1,\n",
       "        -2,  -1,  -2,  -3,  -2,  -1,  -2,  -1,   0,  -1,  -2,  -3,  -2,\n",
       "        -3,  -4,  -3,  -4,  -5,  -4,  -3,  -2,  -3,  -4,  -5,  -6,  -7,\n",
       "        -6,  -7,  -8,  -7,  -8,  -7,  -8,  -9,  -8,  -7,  -8,  -7,  -6,\n",
       "        -5,  -4,  -3,  -4,  -5,  -6,  -5,  -6,  -7,  -8,  -9, -10,  -9,\n",
       "       -10, -11, -12, -11, -10, -11, -12, -11, -10,  -9,  -8,  -7,  -6,\n",
       "        -5,  -4,  -3,  -2,  -3,  -2,  -3,  -2,  -1,  -2,  -3,  -2,  -1,\n",
       "        -2,  -1,  -2,  -1,  -2,  -1,   0,  -1,  -2,  -1,  -2,  -1,  -2,\n",
       "        -1,   0,  -1,   0,  -1,   0,  -1,   0,   1,   2,   1,   2,   3,\n",
       "         4,   3,   4,   3,   2,   3,   2,   1,   0,  -1,   0,  -1,  -2,\n",
       "        -1,  -2,  -1,  -2,  -1,  -2,  -3,  -4,  -5,  -6,  -7,  -6,  -5,\n",
       "        -4,  -3,  -4,  -3,  -4,  -3,  -4,  -3,  -4,  -5,  -6,  -7,  -8,\n",
       "        -9,  -8,  -9,  -8,  -9,  -8,  -7,  -8,  -9, -10, -11, -12, -13,\n",
       "       -14, -13, -14, -15, -14, -15, -16, -15, -16, -15, -16, -15, -16,\n",
       "       -15, -14, -13, -14, -13, -14, -13, -12, -11, -10,  -9, -10,  -9,\n",
       "       -10, -11, -12, -11, -12, -13, -14, -15, -14, -13, -12, -11, -12,\n",
       "       -13, -14, -13, -14, -13, -12, -13, -12, -11, -10, -11, -10,  -9,\n",
       "        -8,  -7,  -8,  -7,  -8,  -9,  -8,  -7,  -6,  -5,  -6,  -7,  -8,\n",
       "        -7,  -8,  -9, -10,  -9, -10,  -9, -10, -11, -10,  -9,  -8,  -7,\n",
       "        -8,  -7,  -6,  -7,  -8,  -7,  -8,  -9, -10, -11, -12, -13, -12,\n",
       "       -13, -14, -13, -12, -11, -12, -13, -12, -11, -10,  -9, -10, -11,\n",
       "       -10, -11, -10,  -9, -10,  -9,  -8,  -7,  -6,  -5,  -6,  -7,  -6,\n",
       "        -7,  -8,  -9,  -8,  -7,  -6,  -5,  -6,  -7,  -6,  -5,  -6,  -5,\n",
       "        -4,  -3,  -4,  -3,  -4,  -3,  -4,  -3,  -2,  -1,   0,   1,   0,\n",
       "        -1,  -2,  -1,   0,   1,   2,   3,   4,   5,   4,   5,   4,   3,\n",
       "         2,   3,   4,   5,   6,   7,   6,   5,   4,   3,   2,   1,   2,\n",
       "         1,   0,   1,   2,   1,   0,  -1,   0,   1,   2,   3,   4,   5,\n",
       "         4,   5,   6,   7,   8,   7,   6,   7,   6,   7,   6,   7,   8,\n",
       "         7,   6,   7,   6,   5,   6,   5,   6,   7,   8,   7,   8,   7,\n",
       "         6,   5,   4,   3,   2,   3,   4,   5,   4,   5,   4,   5,   6,\n",
       "         5,   4,   5,   6,   5,   4,   5,   4,   3,   2,   3,   4,   5,\n",
       "         4,   3,   2,   3,   4,   3,   4,   5,   6,   7,   8,   9,  10,\n",
       "        11,  10,  11,  10,   9,  10,   9,   8,   9,  10,  11,  12])"
      ]
     },
     "execution_count": 49,
     "metadata": {},
     "output_type": "execute_result"
    }
   ],
   "source": [
    "walk"
   ]
  },
  {
   "cell_type": "code",
   "execution_count": 50,
   "id": "dfbb092a",
   "metadata": {},
   "outputs": [
    {
     "data": {
      "text/plain": [
       "-20"
      ]
     },
     "execution_count": 50,
     "metadata": {},
     "output_type": "execute_result"
    }
   ],
   "source": [
    "walk.min()"
   ]
  },
  {
   "cell_type": "code",
   "execution_count": 51,
   "id": "08d7b2a3",
   "metadata": {},
   "outputs": [
    {
     "data": {
      "text/plain": [
       "12"
      ]
     },
     "execution_count": 51,
     "metadata": {},
     "output_type": "execute_result"
    }
   ],
   "source": [
    "walk.max()"
   ]
  },
  {
   "cell_type": "code",
   "execution_count": 52,
   "id": "74c67632",
   "metadata": {},
   "outputs": [
    {
     "data": {
      "text/plain": [
       "array([False, False, False, False, False, False, False, False, False,\n",
       "       False, False, False, False, False, False, False, False, False,\n",
       "       False,  True, False, False, False,  True,  True,  True,  True,\n",
       "        True,  True,  True,  True,  True,  True,  True,  True,  True,\n",
       "        True,  True,  True,  True,  True,  True,  True,  True,  True,\n",
       "        True,  True,  True,  True,  True,  True,  True,  True,  True,\n",
       "        True,  True,  True,  True,  True,  True,  True,  True,  True,\n",
       "        True,  True,  True,  True,  True,  True,  True,  True,  True,\n",
       "        True,  True,  True,  True,  True,  True,  True,  True,  True,\n",
       "        True,  True,  True,  True,  True,  True,  True,  True,  True,\n",
       "        True,  True,  True,  True,  True,  True,  True,  True,  True,\n",
       "        True,  True,  True,  True,  True,  True,  True,  True,  True,\n",
       "        True,  True,  True,  True,  True,  True,  True,  True,  True,\n",
       "        True,  True,  True,  True,  True,  True,  True,  True,  True,\n",
       "        True,  True,  True,  True,  True,  True,  True,  True,  True,\n",
       "        True,  True,  True,  True,  True,  True,  True,  True,  True,\n",
       "        True,  True,  True,  True,  True,  True,  True,  True,  True,\n",
       "        True,  True,  True,  True,  True,  True,  True,  True,  True,\n",
       "        True,  True,  True,  True,  True,  True,  True,  True,  True,\n",
       "        True, False,  True,  True,  True,  True,  True,  True,  True,\n",
       "        True,  True,  True,  True,  True,  True,  True,  True,  True,\n",
       "        True,  True,  True, False,  True,  True,  True,  True,  True,\n",
       "        True,  True,  True,  True,  True,  True,  True,  True,  True,\n",
       "        True,  True,  True,  True,  True,  True,  True,  True,  True,\n",
       "        True,  True,  True,  True,  True,  True,  True,  True,  True,\n",
       "        True,  True,  True,  True,  True,  True,  True,  True,  True,\n",
       "        True,  True,  True,  True,  True,  True,  True,  True,  True,\n",
       "        True,  True,  True,  True,  True,  True,  True,  True,  True,\n",
       "        True,  True,  True,  True,  True,  True,  True,  True,  True,\n",
       "        True,  True,  True,  True,  True,  True,  True,  True,  True,\n",
       "        True,  True,  True,  True,  True,  True,  True,  True,  True,\n",
       "        True,  True,  True,  True,  True,  True,  True,  True,  True,\n",
       "        True,  True,  True,  True,  True,  True, False, False, False,\n",
       "       False, False, False, False, False, False, False, False, False,\n",
       "       False, False, False, False, False, False, False, False, False,\n",
       "       False, False, False, False, False, False, False, False, False,\n",
       "       False, False, False, False, False, False, False, False, False,\n",
       "       False, False, False, False, False, False, False, False,  True,\n",
       "        True,  True,  True,  True,  True,  True,  True,  True,  True,\n",
       "        True, False, False, False,  True,  True,  True,  True,  True,\n",
       "        True,  True, False, False, False,  True,  True,  True,  True,\n",
       "        True,  True,  True, False,  True, False, False, False, False,\n",
       "       False, False, False, False, False, False, False, False, False,\n",
       "       False, False, False, False, False, False, False, False, False,\n",
       "       False, False, False, False, False, False, False,  True,  True,\n",
       "        True,  True,  True,  True,  True, False, False, False,  True,\n",
       "       False, False, False, False, False, False, False, False, False,\n",
       "       False, False, False, False, False, False, False, False, False,\n",
       "       False, False, False, False, False, False, False, False, False,\n",
       "       False, False, False, False, False, False, False, False, False,\n",
       "       False, False, False, False, False, False, False, False, False,\n",
       "       False, False, False, False, False, False, False, False, False,\n",
       "       False, False, False, False, False, False, False, False, False,\n",
       "       False, False, False, False, False, False, False, False, False,\n",
       "       False, False, False, False, False, False, False, False, False,\n",
       "       False, False, False, False, False, False, False, False, False,\n",
       "       False, False, False, False, False, False, False, False, False,\n",
       "       False, False, False, False, False, False, False, False, False,\n",
       "       False, False, False, False, False, False, False, False, False,\n",
       "       False, False, False, False, False, False, False, False, False,\n",
       "       False, False, False, False, False, False, False, False, False,\n",
       "       False, False, False, False, False, False, False, False, False,\n",
       "       False, False, False, False, False, False, False, False, False,\n",
       "       False, False, False, False, False, False, False, False, False,\n",
       "       False, False, False, False, False, False, False, False, False,\n",
       "       False, False, False, False, False, False, False, False, False,\n",
       "       False, False, False, False, False, False, False, False, False,\n",
       "       False, False, False, False, False, False, False, False, False,\n",
       "       False, False, False, False, False, False, False, False, False,\n",
       "       False, False, False, False, False, False, False, False, False,\n",
       "       False, False, False, False, False,  True, False,  True,  True,\n",
       "        True,  True,  True,  True,  True,  True,  True, False, False,\n",
       "       False, False, False, False, False, False, False, False, False,\n",
       "       False, False, False, False, False, False, False, False, False,\n",
       "       False, False, False, False, False, False, False, False, False,\n",
       "       False, False, False, False, False, False, False, False, False,\n",
       "       False, False, False, False, False, False, False, False, False,\n",
       "       False, False, False, False, False, False, False, False, False,\n",
       "       False, False, False, False, False, False, False, False, False,\n",
       "       False, False, False, False, False, False, False, False, False,\n",
       "       False, False, False, False, False, False, False, False, False,\n",
       "       False, False, False, False, False, False, False, False,  True,\n",
       "        True,  True,  True,  True,  True,  True,  True,  True,  True,\n",
       "        True,  True,  True,  True,  True,  True,  True,  True,  True,\n",
       "        True,  True,  True,  True,  True,  True,  True,  True, False,\n",
       "        True, False,  True,  True,  True,  True,  True,  True,  True,\n",
       "        True,  True,  True,  True,  True,  True,  True,  True,  True,\n",
       "        True,  True,  True,  True,  True,  True,  True,  True,  True,\n",
       "       False, False, False, False, False, False, False, False, False,\n",
       "       False, False, False, False, False, False, False, False,  True,\n",
       "       False,  True, False,  True,  True,  True, False, False, False,\n",
       "       False, False, False, False, False, False, False, False,  True,\n",
       "        True,  True,  True,  True,  True,  True,  True,  True,  True,\n",
       "        True,  True,  True,  True,  True, False,  True,  True,  True,\n",
       "        True,  True, False,  True, False, False, False, False, False,\n",
       "       False, False, False, False, False, False, False, False, False,\n",
       "       False, False, False, False, False, False, False, False, False,\n",
       "       False, False, False, False, False, False, False, False, False,\n",
       "       False, False, False, False, False, False, False, False, False,\n",
       "       False, False, False, False, False, False, False, False, False,\n",
       "       False, False, False, False, False, False, False, False, False,\n",
       "       False, False, False, False, False, False, False, False, False,\n",
       "       False, False, False, False, False, False, False, False, False,\n",
       "       False, False, False, False, False, False, False, False, False,\n",
       "       False, False, False, False, False, False, False, False, False,\n",
       "       False, False, False, False, False, False, False, False, False,\n",
       "       False, False, False, False, False, False, False, False, False,\n",
       "       False, False, False, False, False, False, False, False, False,\n",
       "       False, False, False, False, False, False, False, False, False,\n",
       "       False, False, False, False, False, False,  True,  True,  True,\n",
       "        True,  True, False,  True, False, False, False,  True,  True,\n",
       "        True])"
      ]
     },
     "execution_count": 52,
     "metadata": {},
     "output_type": "execute_result"
    }
   ],
   "source": [
    "np.abs(walk) >= 10"
   ]
  },
  {
   "cell_type": "code",
   "execution_count": 53,
   "id": "156816bc",
   "metadata": {},
   "outputs": [
    {
     "data": {
      "text/plain": [
       "array([[ -1,  -2,  -3, ...,  32,  31,  32],\n",
       "       [  1,   0,  -1, ..., -24, -25, -26],\n",
       "       [ -1,   0,  -1, ...,   4,   3,   4],\n",
       "       ...,\n",
       "       [  1,   0,   1, ...,  34,  35,  36],\n",
       "       [ -1,  -2,  -3, ..., -32, -31, -32],\n",
       "       [ -1,   0,  -1, ...,   4,   5,   6]])"
      ]
     },
     "execution_count": 53,
     "metadata": {},
     "output_type": "execute_result"
    }
   ],
   "source": [
    "nwalks = 5000\n",
    "nsteps = 1000\n",
    "draws = np.random.randint(0,2,size=(nwalks,nsteps))\n",
    "steps = np.where(draws > 0, 1, -1)\n",
    "walks = steps.cumsum(1)\n",
    "walks"
   ]
  },
  {
   "cell_type": "code",
   "execution_count": 54,
   "id": "bec91d53",
   "metadata": {},
   "outputs": [
    {
     "data": {
      "text/plain": [
       "(5000, 1000)"
      ]
     },
     "execution_count": 54,
     "metadata": {},
     "output_type": "execute_result"
    }
   ],
   "source": [
    "walks.shape"
   ]
  },
  {
   "cell_type": "code",
   "execution_count": 55,
   "id": "25dfebe9",
   "metadata": {},
   "outputs": [
    {
     "data": {
      "text/plain": [
       "116"
      ]
     },
     "execution_count": 55,
     "metadata": {},
     "output_type": "execute_result"
    }
   ],
   "source": [
    "walks.max()"
   ]
  },
  {
   "cell_type": "code",
   "execution_count": 56,
   "id": "53a6814c",
   "metadata": {},
   "outputs": [
    {
     "data": {
      "text/plain": [
       "-118"
      ]
     },
     "execution_count": 56,
     "metadata": {},
     "output_type": "execute_result"
    }
   ],
   "source": [
    "walks.min()"
   ]
  },
  {
   "cell_type": "code",
   "execution_count": 57,
   "id": "58eafeb0",
   "metadata": {},
   "outputs": [
    {
     "data": {
      "text/plain": [
       "array([ True,  True, False, ...,  True,  True, False])"
      ]
     },
     "execution_count": 57,
     "metadata": {},
     "output_type": "execute_result"
    }
   ],
   "source": [
    "hits30 = (np.abs(walks) >= 30).any(1)\n",
    "hits30"
   ]
  },
  {
   "cell_type": "code",
   "execution_count": 58,
   "id": "85c9fcff",
   "metadata": {},
   "outputs": [
    {
     "data": {
      "text/plain": [
       "3375"
      ]
     },
     "execution_count": 58,
     "metadata": {},
     "output_type": "execute_result"
    }
   ],
   "source": [
    "hits30.sum()"
   ]
  },
  {
   "cell_type": "code",
   "execution_count": 59,
   "id": "7214aea9",
   "metadata": {},
   "outputs": [],
   "source": [
    "crossing_times = (np.abs(walks[hits30] >= 30)).argmax(1)"
   ]
  },
  {
   "cell_type": "code",
   "execution_count": 60,
   "id": "0c18b310",
   "metadata": {},
   "outputs": [
    {
     "data": {
      "text/plain": [
       "257.1054814814815"
      ]
     },
     "execution_count": 60,
     "metadata": {},
     "output_type": "execute_result"
    }
   ],
   "source": [
    "crossing_times.mean()"
   ]
  },
  {
   "cell_type": "code",
   "execution_count": 61,
   "id": "a0ecc565",
   "metadata": {},
   "outputs": [
    {
     "data": {
      "text/plain": [
       "array([-2, -1,  0,  1,  2,  3,  4])"
      ]
     },
     "execution_count": 61,
     "metadata": {},
     "output_type": "execute_result"
    }
   ],
   "source": [
    "a = np.array([-2,-1,0,1,2,3,4])\n",
    "a"
   ]
  },
  {
   "cell_type": "code",
   "execution_count": 62,
   "id": "050fff29",
   "metadata": {},
   "outputs": [
    {
     "data": {
      "text/plain": [
       "array([[ 0.4988588 ,  1.50902522,  0.42231665,  0.78717761],\n",
       "       [ 1.75054723,  2.40846578, -0.91067353,  0.02072116],\n",
       "       [ 0.89722653,  0.1203312 , -0.32493117, -1.14696048],\n",
       "       [ 0.21187954,  2.34831886, -0.31009585, -0.77213625],\n",
       "       [-0.64984282, -1.77234486, -0.13282838,  0.88765701]])"
      ]
     },
     "execution_count": 62,
     "metadata": {},
     "output_type": "execute_result"
    }
   ],
   "source": [
    "a = np.random.randn(5,4)\n",
    "a"
   ]
  },
  {
   "cell_type": "code",
   "execution_count": 63,
   "id": "5746c0da",
   "metadata": {},
   "outputs": [
    {
     "data": {
      "text/plain": [
       "array([[False,  True, False, False],\n",
       "       [ True,  True, False, False],\n",
       "       [False, False, False,  True],\n",
       "       [False,  True, False, False],\n",
       "       [False,  True, False, False]])"
      ]
     },
     "execution_count": 63,
     "metadata": {},
     "output_type": "execute_result"
    }
   ],
   "source": [
    "np.abs(a) > 1"
   ]
  },
  {
   "cell_type": "code",
   "execution_count": 64,
   "id": "958062e0",
   "metadata": {},
   "outputs": [
    {
     "data": {
      "text/plain": [
       "array([ True,  True,  True,  True,  True])"
      ]
     },
     "execution_count": 64,
     "metadata": {},
     "output_type": "execute_result"
    }
   ],
   "source": [
    "mask = (np.abs(a) > 1).any(1)\n",
    "mask"
   ]
  },
  {
   "cell_type": "code",
   "execution_count": 65,
   "id": "314dba26",
   "metadata": {},
   "outputs": [
    {
     "data": {
      "text/plain": [
       "array([1, 1, 0, 1, 3], dtype=int64)"
      ]
     },
     "execution_count": 65,
     "metadata": {},
     "output_type": "execute_result"
    }
   ],
   "source": [
    "a.argmax(1)"
   ]
  },
  {
   "cell_type": "code",
   "execution_count": 100,
   "id": "b0a168c4",
   "metadata": {},
   "outputs": [
    {
     "data": {
      "text/plain": [
       "array([ 1.,  2.,  3.,  4.,  5., nan])"
      ]
     },
     "execution_count": 100,
     "metadata": {},
     "output_type": "execute_result"
    }
   ],
   "source": [
    "nan_array_test = np.array([1,2,3,4,5,np.nan])\n",
    "nan_array_test"
   ]
  },
  {
   "cell_type": "code",
   "execution_count": 101,
   "id": "b71efcab",
   "metadata": {},
   "outputs": [
    {
     "data": {
      "text/plain": [
       "array([False, False, False, False, False, False])"
      ]
     },
     "execution_count": 101,
     "metadata": {},
     "output_type": "execute_result"
    }
   ],
   "source": [
    "nan_array_test == np.nan"
   ]
  },
  {
   "cell_type": "markdown",
   "id": "c8560a6a",
   "metadata": {},
   "source": [
    "直接用==判断nan==nan返回的结果是不准的"
   ]
  },
  {
   "cell_type": "code",
   "execution_count": 102,
   "id": "088e9846",
   "metadata": {},
   "outputs": [
    {
     "data": {
      "text/plain": [
       "array([False, False, False, False, False,  True])"
      ]
     },
     "execution_count": 102,
     "metadata": {},
     "output_type": "execute_result"
    }
   ],
   "source": [
    "np.isnan(nan_array_test)"
   ]
  },
  {
   "cell_type": "markdown",
   "id": "18b0b069",
   "metadata": {},
   "source": [
    "需要用全局函数来进行判断\n"
   ]
  },
  {
   "cell_type": "code",
   "execution_count": 105,
   "id": "c4de54b5",
   "metadata": {},
   "outputs": [
    {
     "data": {
      "text/plain": [
       "array([1., 2., 3., 4., 5.])"
      ]
     },
     "execution_count": 105,
     "metadata": {},
     "output_type": "execute_result"
    }
   ],
   "source": [
    "nan_array_test[~np.isnan(nan_array_test)]"
   ]
  },
  {
   "cell_type": "code",
   "execution_count": null,
   "id": "a41c7916",
   "metadata": {},
   "outputs": [],
   "source": []
  }
 ],
 "metadata": {
  "kernelspec": {
   "display_name": "Python 3 (ipykernel)",
   "language": "python",
   "name": "python3"
  },
  "language_info": {
   "codemirror_mode": {
    "name": "ipython",
    "version": 3
   },
   "file_extension": ".py",
   "mimetype": "text/x-python",
   "name": "python",
   "nbconvert_exporter": "python",
   "pygments_lexer": "ipython3",
   "version": "3.10.2"
  }
 },
 "nbformat": 4,
 "nbformat_minor": 5
}
